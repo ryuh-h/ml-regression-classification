{
  "nbformat": 4,
  "nbformat_minor": 0,
  "metadata": {
    "colab": {
      "provenance": [],
      "collapsed_sections": [
        "_vto1C0qVhw_",
        "pwnWCPEVKEDC",
        "EXDimw8FT_56",
        "jrd8GElfVrXa",
        "sX9xnc_7YfxP",
        "HkncJYNtZxDR",
        "Ab0XWiW6BeI5",
        "Q4ar4npZQxJs",
        "z7CjXw_CRWiw"
      ]
    },
    "kernelspec": {
      "name": "python3",
      "display_name": "Python 3"
    },
    "language_info": {
      "name": "python"
    }
  },
  "cells": [
    {
      "cell_type": "markdown",
      "source": [
        "#**1. Libraries**"
      ],
      "metadata": {
        "id": "_vto1C0qVhw_"
      }
    },
    {
      "cell_type": "code",
      "execution_count": 32,
      "metadata": {
        "id": "WhdgSnHQGDWR"
      },
      "outputs": [],
      "source": [
        "import pandas as pd\n",
        "import numpy as np\n",
        "import matplotlib.pyplot as plt\n",
        "import seaborn as sns\n",
        "from sklearn.model_selection import train_test_split, GridSearchCV\n",
        "from sklearn.preprocessing import StandardScaler, LabelEncoder\n",
        "from sklearn.linear_model import LinearRegression, LogisticRegression\n",
        "from sklearn.ensemble import RandomForestRegressor, GradientBoostingRegressor, RandomForestClassifier, GradientBoostingClassifier\n",
        "from sklearn.metrics import mean_squared_error, r2_score, mean_absolute_error\n",
        "from sklearn.metrics import accuracy_score, precision_score, recall_score, f1_score, confusion_matrix, classification_report\n",
        "import matplotlib.pyplot as plt"
      ]
    },
    {
      "cell_type": "markdown",
      "source": [
        "# **2. Regression Task using Housing Dataset**"
      ],
      "metadata": {
        "id": "27HR1rqQJqkQ"
      }
    },
    {
      "cell_type": "markdown",
      "source": [
        "## 2.1 Importing dataset from GitHub"
      ],
      "metadata": {
        "id": "pwnWCPEVKEDC"
      }
    },
    {
      "cell_type": "code",
      "source": [
        "df_housing = pd.read_csv('https://raw.githubusercontent.com/ryuh-h/ml-regression-classification/refs/heads/main/COMP1816_Housing_Dataset_Regression.csv')"
      ],
      "metadata": {
        "id": "J_J4Cn5aGnEm"
      },
      "execution_count": 33,
      "outputs": []
    },
    {
      "cell_type": "code",
      "source": [
        "df_housing.head()"
      ],
      "metadata": {
        "colab": {
          "base_uri": "https://localhost:8080/",
          "height": 226
        },
        "id": "FYrFQIaHKDeA",
        "outputId": "e674e3c9-8e20-47b1-9d79-64aff8d284fc"
      },
      "execution_count": 34,
      "outputs": [
        {
          "output_type": "execute_result",
          "data": {
            "text/plain": [
              "   No.  longitude  latitude  housing_median_age  total_rooms  total_bedrooms  \\\n",
              "0    1    -122.12     37.70                  17         2488           617.0   \n",
              "1    2    -122.21     38.10                  36         3018           557.0   \n",
              "2    3    -122.22     38.11                  43         1939           353.0   \n",
              "3    4    -122.20     37.78                  52         2300           443.0   \n",
              "4    5    -122.19     37.79                  50          954           217.0   \n",
              "\n",
              "   population  households  median_income  median_house_value ocean_proximity  \n",
              "0        1287         538         2.9922              179900        NEAR BAY  \n",
              "1        1445         556         3.8029              129900        NEAR BAY  \n",
              "2         968         392         3.1848              112700        NEAR BAY  \n",
              "3        1225         423         3.5398              158400        NEAR BAY  \n",
              "4         546         201         2.6667              172800        NEAR BAY  "
            ],
            "text/html": [
              "\n",
              "  <div id=\"df-868dc053-9bd5-4296-a16a-4af052aae97a\" class=\"colab-df-container\">\n",
              "    <div>\n",
              "<style scoped>\n",
              "    .dataframe tbody tr th:only-of-type {\n",
              "        vertical-align: middle;\n",
              "    }\n",
              "\n",
              "    .dataframe tbody tr th {\n",
              "        vertical-align: top;\n",
              "    }\n",
              "\n",
              "    .dataframe thead th {\n",
              "        text-align: right;\n",
              "    }\n",
              "</style>\n",
              "<table border=\"1\" class=\"dataframe\">\n",
              "  <thead>\n",
              "    <tr style=\"text-align: right;\">\n",
              "      <th></th>\n",
              "      <th>No.</th>\n",
              "      <th>longitude</th>\n",
              "      <th>latitude</th>\n",
              "      <th>housing_median_age</th>\n",
              "      <th>total_rooms</th>\n",
              "      <th>total_bedrooms</th>\n",
              "      <th>population</th>\n",
              "      <th>households</th>\n",
              "      <th>median_income</th>\n",
              "      <th>median_house_value</th>\n",
              "      <th>ocean_proximity</th>\n",
              "    </tr>\n",
              "  </thead>\n",
              "  <tbody>\n",
              "    <tr>\n",
              "      <th>0</th>\n",
              "      <td>1</td>\n",
              "      <td>-122.12</td>\n",
              "      <td>37.70</td>\n",
              "      <td>17</td>\n",
              "      <td>2488</td>\n",
              "      <td>617.0</td>\n",
              "      <td>1287</td>\n",
              "      <td>538</td>\n",
              "      <td>2.9922</td>\n",
              "      <td>179900</td>\n",
              "      <td>NEAR BAY</td>\n",
              "    </tr>\n",
              "    <tr>\n",
              "      <th>1</th>\n",
              "      <td>2</td>\n",
              "      <td>-122.21</td>\n",
              "      <td>38.10</td>\n",
              "      <td>36</td>\n",
              "      <td>3018</td>\n",
              "      <td>557.0</td>\n",
              "      <td>1445</td>\n",
              "      <td>556</td>\n",
              "      <td>3.8029</td>\n",
              "      <td>129900</td>\n",
              "      <td>NEAR BAY</td>\n",
              "    </tr>\n",
              "    <tr>\n",
              "      <th>2</th>\n",
              "      <td>3</td>\n",
              "      <td>-122.22</td>\n",
              "      <td>38.11</td>\n",
              "      <td>43</td>\n",
              "      <td>1939</td>\n",
              "      <td>353.0</td>\n",
              "      <td>968</td>\n",
              "      <td>392</td>\n",
              "      <td>3.1848</td>\n",
              "      <td>112700</td>\n",
              "      <td>NEAR BAY</td>\n",
              "    </tr>\n",
              "    <tr>\n",
              "      <th>3</th>\n",
              "      <td>4</td>\n",
              "      <td>-122.20</td>\n",
              "      <td>37.78</td>\n",
              "      <td>52</td>\n",
              "      <td>2300</td>\n",
              "      <td>443.0</td>\n",
              "      <td>1225</td>\n",
              "      <td>423</td>\n",
              "      <td>3.5398</td>\n",
              "      <td>158400</td>\n",
              "      <td>NEAR BAY</td>\n",
              "    </tr>\n",
              "    <tr>\n",
              "      <th>4</th>\n",
              "      <td>5</td>\n",
              "      <td>-122.19</td>\n",
              "      <td>37.79</td>\n",
              "      <td>50</td>\n",
              "      <td>954</td>\n",
              "      <td>217.0</td>\n",
              "      <td>546</td>\n",
              "      <td>201</td>\n",
              "      <td>2.6667</td>\n",
              "      <td>172800</td>\n",
              "      <td>NEAR BAY</td>\n",
              "    </tr>\n",
              "  </tbody>\n",
              "</table>\n",
              "</div>\n",
              "    <div class=\"colab-df-buttons\">\n",
              "\n",
              "  <div class=\"colab-df-container\">\n",
              "    <button class=\"colab-df-convert\" onclick=\"convertToInteractive('df-868dc053-9bd5-4296-a16a-4af052aae97a')\"\n",
              "            title=\"Convert this dataframe to an interactive table.\"\n",
              "            style=\"display:none;\">\n",
              "\n",
              "  <svg xmlns=\"http://www.w3.org/2000/svg\" height=\"24px\" viewBox=\"0 -960 960 960\">\n",
              "    <path d=\"M120-120v-720h720v720H120Zm60-500h600v-160H180v160Zm220 220h160v-160H400v160Zm0 220h160v-160H400v160ZM180-400h160v-160H180v160Zm440 0h160v-160H620v160ZM180-180h160v-160H180v160Zm440 0h160v-160H620v160Z\"/>\n",
              "  </svg>\n",
              "    </button>\n",
              "\n",
              "  <style>\n",
              "    .colab-df-container {\n",
              "      display:flex;\n",
              "      gap: 12px;\n",
              "    }\n",
              "\n",
              "    .colab-df-convert {\n",
              "      background-color: #E8F0FE;\n",
              "      border: none;\n",
              "      border-radius: 50%;\n",
              "      cursor: pointer;\n",
              "      display: none;\n",
              "      fill: #1967D2;\n",
              "      height: 32px;\n",
              "      padding: 0 0 0 0;\n",
              "      width: 32px;\n",
              "    }\n",
              "\n",
              "    .colab-df-convert:hover {\n",
              "      background-color: #E2EBFA;\n",
              "      box-shadow: 0px 1px 2px rgba(60, 64, 67, 0.3), 0px 1px 3px 1px rgba(60, 64, 67, 0.15);\n",
              "      fill: #174EA6;\n",
              "    }\n",
              "\n",
              "    .colab-df-buttons div {\n",
              "      margin-bottom: 4px;\n",
              "    }\n",
              "\n",
              "    [theme=dark] .colab-df-convert {\n",
              "      background-color: #3B4455;\n",
              "      fill: #D2E3FC;\n",
              "    }\n",
              "\n",
              "    [theme=dark] .colab-df-convert:hover {\n",
              "      background-color: #434B5C;\n",
              "      box-shadow: 0px 1px 3px 1px rgba(0, 0, 0, 0.15);\n",
              "      filter: drop-shadow(0px 1px 2px rgba(0, 0, 0, 0.3));\n",
              "      fill: #FFFFFF;\n",
              "    }\n",
              "  </style>\n",
              "\n",
              "    <script>\n",
              "      const buttonEl =\n",
              "        document.querySelector('#df-868dc053-9bd5-4296-a16a-4af052aae97a button.colab-df-convert');\n",
              "      buttonEl.style.display =\n",
              "        google.colab.kernel.accessAllowed ? 'block' : 'none';\n",
              "\n",
              "      async function convertToInteractive(key) {\n",
              "        const element = document.querySelector('#df-868dc053-9bd5-4296-a16a-4af052aae97a');\n",
              "        const dataTable =\n",
              "          await google.colab.kernel.invokeFunction('convertToInteractive',\n",
              "                                                    [key], {});\n",
              "        if (!dataTable) return;\n",
              "\n",
              "        const docLinkHtml = 'Like what you see? Visit the ' +\n",
              "          '<a target=\"_blank\" href=https://colab.research.google.com/notebooks/data_table.ipynb>data table notebook</a>'\n",
              "          + ' to learn more about interactive tables.';\n",
              "        element.innerHTML = '';\n",
              "        dataTable['output_type'] = 'display_data';\n",
              "        await google.colab.output.renderOutput(dataTable, element);\n",
              "        const docLink = document.createElement('div');\n",
              "        docLink.innerHTML = docLinkHtml;\n",
              "        element.appendChild(docLink);\n",
              "      }\n",
              "    </script>\n",
              "  </div>\n",
              "\n",
              "\n",
              "<div id=\"df-81d00059-4bcd-4c53-960a-333b0fd9584d\">\n",
              "  <button class=\"colab-df-quickchart\" onclick=\"quickchart('df-81d00059-4bcd-4c53-960a-333b0fd9584d')\"\n",
              "            title=\"Suggest charts\"\n",
              "            style=\"display:none;\">\n",
              "\n",
              "<svg xmlns=\"http://www.w3.org/2000/svg\" height=\"24px\"viewBox=\"0 0 24 24\"\n",
              "     width=\"24px\">\n",
              "    <g>\n",
              "        <path d=\"M19 3H5c-1.1 0-2 .9-2 2v14c0 1.1.9 2 2 2h14c1.1 0 2-.9 2-2V5c0-1.1-.9-2-2-2zM9 17H7v-7h2v7zm4 0h-2V7h2v10zm4 0h-2v-4h2v4z\"/>\n",
              "    </g>\n",
              "</svg>\n",
              "  </button>\n",
              "\n",
              "<style>\n",
              "  .colab-df-quickchart {\n",
              "      --bg-color: #E8F0FE;\n",
              "      --fill-color: #1967D2;\n",
              "      --hover-bg-color: #E2EBFA;\n",
              "      --hover-fill-color: #174EA6;\n",
              "      --disabled-fill-color: #AAA;\n",
              "      --disabled-bg-color: #DDD;\n",
              "  }\n",
              "\n",
              "  [theme=dark] .colab-df-quickchart {\n",
              "      --bg-color: #3B4455;\n",
              "      --fill-color: #D2E3FC;\n",
              "      --hover-bg-color: #434B5C;\n",
              "      --hover-fill-color: #FFFFFF;\n",
              "      --disabled-bg-color: #3B4455;\n",
              "      --disabled-fill-color: #666;\n",
              "  }\n",
              "\n",
              "  .colab-df-quickchart {\n",
              "    background-color: var(--bg-color);\n",
              "    border: none;\n",
              "    border-radius: 50%;\n",
              "    cursor: pointer;\n",
              "    display: none;\n",
              "    fill: var(--fill-color);\n",
              "    height: 32px;\n",
              "    padding: 0;\n",
              "    width: 32px;\n",
              "  }\n",
              "\n",
              "  .colab-df-quickchart:hover {\n",
              "    background-color: var(--hover-bg-color);\n",
              "    box-shadow: 0 1px 2px rgba(60, 64, 67, 0.3), 0 1px 3px 1px rgba(60, 64, 67, 0.15);\n",
              "    fill: var(--button-hover-fill-color);\n",
              "  }\n",
              "\n",
              "  .colab-df-quickchart-complete:disabled,\n",
              "  .colab-df-quickchart-complete:disabled:hover {\n",
              "    background-color: var(--disabled-bg-color);\n",
              "    fill: var(--disabled-fill-color);\n",
              "    box-shadow: none;\n",
              "  }\n",
              "\n",
              "  .colab-df-spinner {\n",
              "    border: 2px solid var(--fill-color);\n",
              "    border-color: transparent;\n",
              "    border-bottom-color: var(--fill-color);\n",
              "    animation:\n",
              "      spin 1s steps(1) infinite;\n",
              "  }\n",
              "\n",
              "  @keyframes spin {\n",
              "    0% {\n",
              "      border-color: transparent;\n",
              "      border-bottom-color: var(--fill-color);\n",
              "      border-left-color: var(--fill-color);\n",
              "    }\n",
              "    20% {\n",
              "      border-color: transparent;\n",
              "      border-left-color: var(--fill-color);\n",
              "      border-top-color: var(--fill-color);\n",
              "    }\n",
              "    30% {\n",
              "      border-color: transparent;\n",
              "      border-left-color: var(--fill-color);\n",
              "      border-top-color: var(--fill-color);\n",
              "      border-right-color: var(--fill-color);\n",
              "    }\n",
              "    40% {\n",
              "      border-color: transparent;\n",
              "      border-right-color: var(--fill-color);\n",
              "      border-top-color: var(--fill-color);\n",
              "    }\n",
              "    60% {\n",
              "      border-color: transparent;\n",
              "      border-right-color: var(--fill-color);\n",
              "    }\n",
              "    80% {\n",
              "      border-color: transparent;\n",
              "      border-right-color: var(--fill-color);\n",
              "      border-bottom-color: var(--fill-color);\n",
              "    }\n",
              "    90% {\n",
              "      border-color: transparent;\n",
              "      border-bottom-color: var(--fill-color);\n",
              "    }\n",
              "  }\n",
              "</style>\n",
              "\n",
              "  <script>\n",
              "    async function quickchart(key) {\n",
              "      const quickchartButtonEl =\n",
              "        document.querySelector('#' + key + ' button');\n",
              "      quickchartButtonEl.disabled = true;  // To prevent multiple clicks.\n",
              "      quickchartButtonEl.classList.add('colab-df-spinner');\n",
              "      try {\n",
              "        const charts = await google.colab.kernel.invokeFunction(\n",
              "            'suggestCharts', [key], {});\n",
              "      } catch (error) {\n",
              "        console.error('Error during call to suggestCharts:', error);\n",
              "      }\n",
              "      quickchartButtonEl.classList.remove('colab-df-spinner');\n",
              "      quickchartButtonEl.classList.add('colab-df-quickchart-complete');\n",
              "    }\n",
              "    (() => {\n",
              "      let quickchartButtonEl =\n",
              "        document.querySelector('#df-81d00059-4bcd-4c53-960a-333b0fd9584d button');\n",
              "      quickchartButtonEl.style.display =\n",
              "        google.colab.kernel.accessAllowed ? 'block' : 'none';\n",
              "    })();\n",
              "  </script>\n",
              "</div>\n",
              "\n",
              "    </div>\n",
              "  </div>\n"
            ],
            "application/vnd.google.colaboratory.intrinsic+json": {
              "type": "dataframe",
              "variable_name": "df_housing",
              "summary": "{\n  \"name\": \"df_housing\",\n  \"rows\": 1000,\n  \"fields\": [\n    {\n      \"column\": \"No.\",\n      \"properties\": {\n        \"dtype\": \"number\",\n        \"std\": 291,\n        \"min\": 1,\n        \"max\": 1000,\n        \"num_unique_values\": 989,\n        \"samples\": [\n          214,\n          332,\n          502\n        ],\n        \"semantic_type\": \"\",\n        \"description\": \"\"\n      }\n    },\n    {\n      \"column\": \"longitude\",\n      \"properties\": {\n        \"dtype\": \"number\",\n        \"std\": 1.949074864628839,\n        \"min\": -124.19,\n        \"max\": -115.41,\n        \"num_unique_values\": 418,\n        \"samples\": [\n          -116.99,\n          -116.78,\n          -120.8\n        ],\n        \"semantic_type\": \"\",\n        \"description\": \"\"\n      }\n    },\n    {\n      \"column\": \"latitude\",\n      \"properties\": {\n        \"dtype\": \"number\",\n        \"std\": 2.135451272972353,\n        \"min\": 32.56,\n        \"max\": 41.78,\n        \"num_unique_values\": 377,\n        \"samples\": [\n          33.2,\n          34.87,\n          32.77\n        ],\n        \"semantic_type\": \"\",\n        \"description\": \"\"\n      }\n    },\n    {\n      \"column\": \"housing_median_age\",\n      \"properties\": {\n        \"dtype\": \"number\",\n        \"std\": 12,\n        \"min\": 2,\n        \"max\": 52,\n        \"num_unique_values\": 51,\n        \"samples\": [\n          41,\n          32,\n          51\n        ],\n        \"semantic_type\": \"\",\n        \"description\": \"\"\n      }\n    },\n    {\n      \"column\": \"total_rooms\",\n      \"properties\": {\n        \"dtype\": \"number\",\n        \"std\": 2163,\n        \"min\": 19,\n        \"max\": 27700,\n        \"num_unique_values\": 884,\n        \"samples\": [\n          4719,\n          2260,\n          1168\n        ],\n        \"semantic_type\": \"\",\n        \"description\": \"\"\n      }\n    },\n    {\n      \"column\": \"total_bedrooms\",\n      \"properties\": {\n        \"dtype\": \"number\",\n        \"std\": 424.2771559356371,\n        \"min\": 11.0,\n        \"max\": 4386.0,\n        \"num_unique_values\": 619,\n        \"samples\": [\n          523.0,\n          631.0,\n          416.0\n        ],\n        \"semantic_type\": \"\",\n        \"description\": \"\"\n      }\n    },\n    {\n      \"column\": \"population\",\n      \"properties\": {\n        \"dtype\": \"number\",\n        \"std\": 1111,\n        \"min\": 34,\n        \"max\": 15037,\n        \"num_unique_values\": 821,\n        \"samples\": [\n          1656,\n          2119,\n          341\n        ],\n        \"semantic_type\": \"\",\n        \"description\": \"\"\n      }\n    },\n    {\n      \"column\": \"households\",\n      \"properties\": {\n        \"dtype\": \"number\",\n        \"std\": 382,\n        \"min\": 9,\n        \"max\": 4072,\n        \"num_unique_values\": 617,\n        \"samples\": [\n          297,\n          296,\n          377\n        ],\n        \"semantic_type\": \"\",\n        \"description\": \"\"\n      }\n    },\n    {\n      \"column\": \"median_income\",\n      \"properties\": {\n        \"dtype\": \"number\",\n        \"std\": 1.9446227086684738,\n        \"min\": 0.536,\n        \"max\": 15.0001,\n        \"num_unique_values\": 924,\n        \"samples\": [\n          9.4987,\n          3.5156,\n          4.7019\n        ],\n        \"semantic_type\": \"\",\n        \"description\": \"\"\n      }\n    },\n    {\n      \"column\": \"median_house_value\",\n      \"properties\": {\n        \"dtype\": \"number\",\n        \"std\": 114243,\n        \"min\": 14999,\n        \"max\": 500001,\n        \"num_unique_values\": 774,\n        \"samples\": [\n          153100,\n          140000,\n          358600\n        ],\n        \"semantic_type\": \"\",\n        \"description\": \"\"\n      }\n    },\n    {\n      \"column\": \"ocean_proximity\",\n      \"properties\": {\n        \"dtype\": \"category\",\n        \"num_unique_values\": 4,\n        \"samples\": [\n          \"<1H OCEAN\",\n          \"NEAR OCEAN\",\n          \"NEAR BAY\"\n        ],\n        \"semantic_type\": \"\",\n        \"description\": \"\"\n      }\n    }\n  ]\n}"
            }
          },
          "metadata": {},
          "execution_count": 34
        }
      ]
    },
    {
      "cell_type": "code",
      "source": [
        "df_housing.info()"
      ],
      "metadata": {
        "colab": {
          "base_uri": "https://localhost:8080/"
        },
        "id": "XZF3lf2XTxkA",
        "outputId": "d2a19616-8bfc-4c67-bffb-b6090b2e1d32"
      },
      "execution_count": 35,
      "outputs": [
        {
          "output_type": "stream",
          "name": "stdout",
          "text": [
            "<class 'pandas.core.frame.DataFrame'>\n",
            "RangeIndex: 1000 entries, 0 to 999\n",
            "Data columns (total 11 columns):\n",
            " #   Column              Non-Null Count  Dtype  \n",
            "---  ------              --------------  -----  \n",
            " 0   No.                 1000 non-null   int64  \n",
            " 1   longitude           1000 non-null   float64\n",
            " 2   latitude            1000 non-null   float64\n",
            " 3   housing_median_age  1000 non-null   int64  \n",
            " 4   total_rooms         1000 non-null   int64  \n",
            " 5   total_bedrooms      988 non-null    float64\n",
            " 6   population          1000 non-null   int64  \n",
            " 7   households          1000 non-null   int64  \n",
            " 8   median_income       1000 non-null   float64\n",
            " 9   median_house_value  1000 non-null   int64  \n",
            " 10  ocean_proximity     993 non-null    object \n",
            "dtypes: float64(4), int64(6), object(1)\n",
            "memory usage: 86.1+ KB\n"
          ]
        }
      ]
    },
    {
      "cell_type": "markdown",
      "source": [
        "## 2.2 Data Preprocessing"
      ],
      "metadata": {
        "id": "EXDimw8FT_56"
      }
    },
    {
      "cell_type": "code",
      "source": [
        "# Calculate % of rows with null values to determine how to solve them\n",
        "df_housing.isnull().values.ravel().sum() / len(df_housing) * 100"
      ],
      "metadata": {
        "colab": {
          "base_uri": "https://localhost:8080/"
        },
        "id": "gdfni17w6Ebh",
        "outputId": "bac71955-2c73-4432-85df-fd44d356e9b9"
      },
      "execution_count": 36,
      "outputs": [
        {
          "output_type": "execute_result",
          "data": {
            "text/plain": [
              "1.9"
            ]
          },
          "metadata": {},
          "execution_count": 36
        }
      ]
    },
    {
      "cell_type": "code",
      "source": [
        "# Drop rows with null values\n",
        "df_housing = df_housing.dropna(axis=0)\n",
        "\n",
        "# Only 1.9% of rows had null values, dropping the rows would not affect regression"
      ],
      "metadata": {
        "id": "ELnD6ngvUF1z"
      },
      "execution_count": 37,
      "outputs": []
    },
    {
      "cell_type": "code",
      "source": [
        "# Convert 'ocean_proximity' categorical column to numerical using one-hot encoding\n",
        "df_housing = pd.get_dummies(df_housing, columns=[\"ocean_proximity\"], drop_first=True)"
      ],
      "metadata": {
        "id": "aj7CtLTXU7wt"
      },
      "execution_count": 38,
      "outputs": []
    },
    {
      "cell_type": "code",
      "source": [
        "df_housing.head()"
      ],
      "metadata": {
        "colab": {
          "base_uri": "https://localhost:8080/",
          "height": 243
        },
        "id": "s_ibg9yCVZir",
        "outputId": "7b072b09-ec33-4e81-f389-36f5173d6250"
      },
      "execution_count": 39,
      "outputs": [
        {
          "output_type": "execute_result",
          "data": {
            "text/plain": [
              "   No.  longitude  latitude  housing_median_age  total_rooms  total_bedrooms  \\\n",
              "0    1    -122.12     37.70                  17         2488           617.0   \n",
              "1    2    -122.21     38.10                  36         3018           557.0   \n",
              "2    3    -122.22     38.11                  43         1939           353.0   \n",
              "3    4    -122.20     37.78                  52         2300           443.0   \n",
              "4    5    -122.19     37.79                  50          954           217.0   \n",
              "\n",
              "   population  households  median_income  median_house_value  \\\n",
              "0        1287         538         2.9922              179900   \n",
              "1        1445         556         3.8029              129900   \n",
              "2         968         392         3.1848              112700   \n",
              "3        1225         423         3.5398              158400   \n",
              "4         546         201         2.6667              172800   \n",
              "\n",
              "   ocean_proximity_INLAND  ocean_proximity_NEAR BAY  \\\n",
              "0                   False                      True   \n",
              "1                   False                      True   \n",
              "2                   False                      True   \n",
              "3                   False                      True   \n",
              "4                   False                      True   \n",
              "\n",
              "   ocean_proximity_NEAR OCEAN  \n",
              "0                       False  \n",
              "1                       False  \n",
              "2                       False  \n",
              "3                       False  \n",
              "4                       False  "
            ],
            "text/html": [
              "\n",
              "  <div id=\"df-ab76ea51-4934-484a-8bff-0ab659c4c855\" class=\"colab-df-container\">\n",
              "    <div>\n",
              "<style scoped>\n",
              "    .dataframe tbody tr th:only-of-type {\n",
              "        vertical-align: middle;\n",
              "    }\n",
              "\n",
              "    .dataframe tbody tr th {\n",
              "        vertical-align: top;\n",
              "    }\n",
              "\n",
              "    .dataframe thead th {\n",
              "        text-align: right;\n",
              "    }\n",
              "</style>\n",
              "<table border=\"1\" class=\"dataframe\">\n",
              "  <thead>\n",
              "    <tr style=\"text-align: right;\">\n",
              "      <th></th>\n",
              "      <th>No.</th>\n",
              "      <th>longitude</th>\n",
              "      <th>latitude</th>\n",
              "      <th>housing_median_age</th>\n",
              "      <th>total_rooms</th>\n",
              "      <th>total_bedrooms</th>\n",
              "      <th>population</th>\n",
              "      <th>households</th>\n",
              "      <th>median_income</th>\n",
              "      <th>median_house_value</th>\n",
              "      <th>ocean_proximity_INLAND</th>\n",
              "      <th>ocean_proximity_NEAR BAY</th>\n",
              "      <th>ocean_proximity_NEAR OCEAN</th>\n",
              "    </tr>\n",
              "  </thead>\n",
              "  <tbody>\n",
              "    <tr>\n",
              "      <th>0</th>\n",
              "      <td>1</td>\n",
              "      <td>-122.12</td>\n",
              "      <td>37.70</td>\n",
              "      <td>17</td>\n",
              "      <td>2488</td>\n",
              "      <td>617.0</td>\n",
              "      <td>1287</td>\n",
              "      <td>538</td>\n",
              "      <td>2.9922</td>\n",
              "      <td>179900</td>\n",
              "      <td>False</td>\n",
              "      <td>True</td>\n",
              "      <td>False</td>\n",
              "    </tr>\n",
              "    <tr>\n",
              "      <th>1</th>\n",
              "      <td>2</td>\n",
              "      <td>-122.21</td>\n",
              "      <td>38.10</td>\n",
              "      <td>36</td>\n",
              "      <td>3018</td>\n",
              "      <td>557.0</td>\n",
              "      <td>1445</td>\n",
              "      <td>556</td>\n",
              "      <td>3.8029</td>\n",
              "      <td>129900</td>\n",
              "      <td>False</td>\n",
              "      <td>True</td>\n",
              "      <td>False</td>\n",
              "    </tr>\n",
              "    <tr>\n",
              "      <th>2</th>\n",
              "      <td>3</td>\n",
              "      <td>-122.22</td>\n",
              "      <td>38.11</td>\n",
              "      <td>43</td>\n",
              "      <td>1939</td>\n",
              "      <td>353.0</td>\n",
              "      <td>968</td>\n",
              "      <td>392</td>\n",
              "      <td>3.1848</td>\n",
              "      <td>112700</td>\n",
              "      <td>False</td>\n",
              "      <td>True</td>\n",
              "      <td>False</td>\n",
              "    </tr>\n",
              "    <tr>\n",
              "      <th>3</th>\n",
              "      <td>4</td>\n",
              "      <td>-122.20</td>\n",
              "      <td>37.78</td>\n",
              "      <td>52</td>\n",
              "      <td>2300</td>\n",
              "      <td>443.0</td>\n",
              "      <td>1225</td>\n",
              "      <td>423</td>\n",
              "      <td>3.5398</td>\n",
              "      <td>158400</td>\n",
              "      <td>False</td>\n",
              "      <td>True</td>\n",
              "      <td>False</td>\n",
              "    </tr>\n",
              "    <tr>\n",
              "      <th>4</th>\n",
              "      <td>5</td>\n",
              "      <td>-122.19</td>\n",
              "      <td>37.79</td>\n",
              "      <td>50</td>\n",
              "      <td>954</td>\n",
              "      <td>217.0</td>\n",
              "      <td>546</td>\n",
              "      <td>201</td>\n",
              "      <td>2.6667</td>\n",
              "      <td>172800</td>\n",
              "      <td>False</td>\n",
              "      <td>True</td>\n",
              "      <td>False</td>\n",
              "    </tr>\n",
              "  </tbody>\n",
              "</table>\n",
              "</div>\n",
              "    <div class=\"colab-df-buttons\">\n",
              "\n",
              "  <div class=\"colab-df-container\">\n",
              "    <button class=\"colab-df-convert\" onclick=\"convertToInteractive('df-ab76ea51-4934-484a-8bff-0ab659c4c855')\"\n",
              "            title=\"Convert this dataframe to an interactive table.\"\n",
              "            style=\"display:none;\">\n",
              "\n",
              "  <svg xmlns=\"http://www.w3.org/2000/svg\" height=\"24px\" viewBox=\"0 -960 960 960\">\n",
              "    <path d=\"M120-120v-720h720v720H120Zm60-500h600v-160H180v160Zm220 220h160v-160H400v160Zm0 220h160v-160H400v160ZM180-400h160v-160H180v160Zm440 0h160v-160H620v160ZM180-180h160v-160H180v160Zm440 0h160v-160H620v160Z\"/>\n",
              "  </svg>\n",
              "    </button>\n",
              "\n",
              "  <style>\n",
              "    .colab-df-container {\n",
              "      display:flex;\n",
              "      gap: 12px;\n",
              "    }\n",
              "\n",
              "    .colab-df-convert {\n",
              "      background-color: #E8F0FE;\n",
              "      border: none;\n",
              "      border-radius: 50%;\n",
              "      cursor: pointer;\n",
              "      display: none;\n",
              "      fill: #1967D2;\n",
              "      height: 32px;\n",
              "      padding: 0 0 0 0;\n",
              "      width: 32px;\n",
              "    }\n",
              "\n",
              "    .colab-df-convert:hover {\n",
              "      background-color: #E2EBFA;\n",
              "      box-shadow: 0px 1px 2px rgba(60, 64, 67, 0.3), 0px 1px 3px 1px rgba(60, 64, 67, 0.15);\n",
              "      fill: #174EA6;\n",
              "    }\n",
              "\n",
              "    .colab-df-buttons div {\n",
              "      margin-bottom: 4px;\n",
              "    }\n",
              "\n",
              "    [theme=dark] .colab-df-convert {\n",
              "      background-color: #3B4455;\n",
              "      fill: #D2E3FC;\n",
              "    }\n",
              "\n",
              "    [theme=dark] .colab-df-convert:hover {\n",
              "      background-color: #434B5C;\n",
              "      box-shadow: 0px 1px 3px 1px rgba(0, 0, 0, 0.15);\n",
              "      filter: drop-shadow(0px 1px 2px rgba(0, 0, 0, 0.3));\n",
              "      fill: #FFFFFF;\n",
              "    }\n",
              "  </style>\n",
              "\n",
              "    <script>\n",
              "      const buttonEl =\n",
              "        document.querySelector('#df-ab76ea51-4934-484a-8bff-0ab659c4c855 button.colab-df-convert');\n",
              "      buttonEl.style.display =\n",
              "        google.colab.kernel.accessAllowed ? 'block' : 'none';\n",
              "\n",
              "      async function convertToInteractive(key) {\n",
              "        const element = document.querySelector('#df-ab76ea51-4934-484a-8bff-0ab659c4c855');\n",
              "        const dataTable =\n",
              "          await google.colab.kernel.invokeFunction('convertToInteractive',\n",
              "                                                    [key], {});\n",
              "        if (!dataTable) return;\n",
              "\n",
              "        const docLinkHtml = 'Like what you see? Visit the ' +\n",
              "          '<a target=\"_blank\" href=https://colab.research.google.com/notebooks/data_table.ipynb>data table notebook</a>'\n",
              "          + ' to learn more about interactive tables.';\n",
              "        element.innerHTML = '';\n",
              "        dataTable['output_type'] = 'display_data';\n",
              "        await google.colab.output.renderOutput(dataTable, element);\n",
              "        const docLink = document.createElement('div');\n",
              "        docLink.innerHTML = docLinkHtml;\n",
              "        element.appendChild(docLink);\n",
              "      }\n",
              "    </script>\n",
              "  </div>\n",
              "\n",
              "\n",
              "<div id=\"df-3d53ecfe-99a8-4013-87d2-57f17a06f8ff\">\n",
              "  <button class=\"colab-df-quickchart\" onclick=\"quickchart('df-3d53ecfe-99a8-4013-87d2-57f17a06f8ff')\"\n",
              "            title=\"Suggest charts\"\n",
              "            style=\"display:none;\">\n",
              "\n",
              "<svg xmlns=\"http://www.w3.org/2000/svg\" height=\"24px\"viewBox=\"0 0 24 24\"\n",
              "     width=\"24px\">\n",
              "    <g>\n",
              "        <path d=\"M19 3H5c-1.1 0-2 .9-2 2v14c0 1.1.9 2 2 2h14c1.1 0 2-.9 2-2V5c0-1.1-.9-2-2-2zM9 17H7v-7h2v7zm4 0h-2V7h2v10zm4 0h-2v-4h2v4z\"/>\n",
              "    </g>\n",
              "</svg>\n",
              "  </button>\n",
              "\n",
              "<style>\n",
              "  .colab-df-quickchart {\n",
              "      --bg-color: #E8F0FE;\n",
              "      --fill-color: #1967D2;\n",
              "      --hover-bg-color: #E2EBFA;\n",
              "      --hover-fill-color: #174EA6;\n",
              "      --disabled-fill-color: #AAA;\n",
              "      --disabled-bg-color: #DDD;\n",
              "  }\n",
              "\n",
              "  [theme=dark] .colab-df-quickchart {\n",
              "      --bg-color: #3B4455;\n",
              "      --fill-color: #D2E3FC;\n",
              "      --hover-bg-color: #434B5C;\n",
              "      --hover-fill-color: #FFFFFF;\n",
              "      --disabled-bg-color: #3B4455;\n",
              "      --disabled-fill-color: #666;\n",
              "  }\n",
              "\n",
              "  .colab-df-quickchart {\n",
              "    background-color: var(--bg-color);\n",
              "    border: none;\n",
              "    border-radius: 50%;\n",
              "    cursor: pointer;\n",
              "    display: none;\n",
              "    fill: var(--fill-color);\n",
              "    height: 32px;\n",
              "    padding: 0;\n",
              "    width: 32px;\n",
              "  }\n",
              "\n",
              "  .colab-df-quickchart:hover {\n",
              "    background-color: var(--hover-bg-color);\n",
              "    box-shadow: 0 1px 2px rgba(60, 64, 67, 0.3), 0 1px 3px 1px rgba(60, 64, 67, 0.15);\n",
              "    fill: var(--button-hover-fill-color);\n",
              "  }\n",
              "\n",
              "  .colab-df-quickchart-complete:disabled,\n",
              "  .colab-df-quickchart-complete:disabled:hover {\n",
              "    background-color: var(--disabled-bg-color);\n",
              "    fill: var(--disabled-fill-color);\n",
              "    box-shadow: none;\n",
              "  }\n",
              "\n",
              "  .colab-df-spinner {\n",
              "    border: 2px solid var(--fill-color);\n",
              "    border-color: transparent;\n",
              "    border-bottom-color: var(--fill-color);\n",
              "    animation:\n",
              "      spin 1s steps(1) infinite;\n",
              "  }\n",
              "\n",
              "  @keyframes spin {\n",
              "    0% {\n",
              "      border-color: transparent;\n",
              "      border-bottom-color: var(--fill-color);\n",
              "      border-left-color: var(--fill-color);\n",
              "    }\n",
              "    20% {\n",
              "      border-color: transparent;\n",
              "      border-left-color: var(--fill-color);\n",
              "      border-top-color: var(--fill-color);\n",
              "    }\n",
              "    30% {\n",
              "      border-color: transparent;\n",
              "      border-left-color: var(--fill-color);\n",
              "      border-top-color: var(--fill-color);\n",
              "      border-right-color: var(--fill-color);\n",
              "    }\n",
              "    40% {\n",
              "      border-color: transparent;\n",
              "      border-right-color: var(--fill-color);\n",
              "      border-top-color: var(--fill-color);\n",
              "    }\n",
              "    60% {\n",
              "      border-color: transparent;\n",
              "      border-right-color: var(--fill-color);\n",
              "    }\n",
              "    80% {\n",
              "      border-color: transparent;\n",
              "      border-right-color: var(--fill-color);\n",
              "      border-bottom-color: var(--fill-color);\n",
              "    }\n",
              "    90% {\n",
              "      border-color: transparent;\n",
              "      border-bottom-color: var(--fill-color);\n",
              "    }\n",
              "  }\n",
              "</style>\n",
              "\n",
              "  <script>\n",
              "    async function quickchart(key) {\n",
              "      const quickchartButtonEl =\n",
              "        document.querySelector('#' + key + ' button');\n",
              "      quickchartButtonEl.disabled = true;  // To prevent multiple clicks.\n",
              "      quickchartButtonEl.classList.add('colab-df-spinner');\n",
              "      try {\n",
              "        const charts = await google.colab.kernel.invokeFunction(\n",
              "            'suggestCharts', [key], {});\n",
              "      } catch (error) {\n",
              "        console.error('Error during call to suggestCharts:', error);\n",
              "      }\n",
              "      quickchartButtonEl.classList.remove('colab-df-spinner');\n",
              "      quickchartButtonEl.classList.add('colab-df-quickchart-complete');\n",
              "    }\n",
              "    (() => {\n",
              "      let quickchartButtonEl =\n",
              "        document.querySelector('#df-3d53ecfe-99a8-4013-87d2-57f17a06f8ff button');\n",
              "      quickchartButtonEl.style.display =\n",
              "        google.colab.kernel.accessAllowed ? 'block' : 'none';\n",
              "    })();\n",
              "  </script>\n",
              "</div>\n",
              "\n",
              "    </div>\n",
              "  </div>\n"
            ],
            "application/vnd.google.colaboratory.intrinsic+json": {
              "type": "dataframe",
              "variable_name": "df_housing",
              "summary": "{\n  \"name\": \"df_housing\",\n  \"rows\": 981,\n  \"fields\": [\n    {\n      \"column\": \"No.\",\n      \"properties\": {\n        \"dtype\": \"number\",\n        \"std\": 290,\n        \"min\": 1,\n        \"max\": 1000,\n        \"num_unique_values\": 972,\n        \"samples\": [\n          790,\n          71,\n          880\n        ],\n        \"semantic_type\": \"\",\n        \"description\": \"\"\n      }\n    },\n    {\n      \"column\": \"longitude\",\n      \"properties\": {\n        \"dtype\": \"number\",\n        \"std\": 1.9493099018336186,\n        \"min\": -124.19,\n        \"max\": -115.41,\n        \"num_unique_values\": 415,\n        \"samples\": [\n          -119.81,\n          -118.25,\n          -118.13\n        ],\n        \"semantic_type\": \"\",\n        \"description\": \"\"\n      }\n    },\n    {\n      \"column\": \"latitude\",\n      \"properties\": {\n        \"dtype\": \"number\",\n        \"std\": 2.1373343311287285,\n        \"min\": 32.56,\n        \"max\": 41.78,\n        \"num_unique_values\": 374,\n        \"samples\": [\n          37.01,\n          38.16,\n          37.68\n        ],\n        \"semantic_type\": \"\",\n        \"description\": \"\"\n      }\n    },\n    {\n      \"column\": \"housing_median_age\",\n      \"properties\": {\n        \"dtype\": \"number\",\n        \"std\": 12,\n        \"min\": 2,\n        \"max\": 52,\n        \"num_unique_values\": 51,\n        \"samples\": [\n          41,\n          32,\n          51\n        ],\n        \"semantic_type\": \"\",\n        \"description\": \"\"\n      }\n    },\n    {\n      \"column\": \"total_rooms\",\n      \"properties\": {\n        \"dtype\": \"number\",\n        \"std\": 2169,\n        \"min\": 19,\n        \"max\": 27700,\n        \"num_unique_values\": 869,\n        \"samples\": [\n          2181,\n          2615,\n          9947\n        ],\n        \"semantic_type\": \"\",\n        \"description\": \"\"\n      }\n    },\n    {\n      \"column\": \"total_bedrooms\",\n      \"properties\": {\n        \"dtype\": \"number\",\n        \"std\": 424.8117933218968,\n        \"min\": 11.0,\n        \"max\": 4386.0,\n        \"num_unique_values\": 615,\n        \"samples\": [\n          377.0,\n          466.0,\n          691.0\n        ],\n        \"semantic_type\": \"\",\n        \"description\": \"\"\n      }\n    },\n    {\n      \"column\": \"population\",\n      \"properties\": {\n        \"dtype\": \"number\",\n        \"std\": 1116,\n        \"min\": 34,\n        \"max\": 15037,\n        \"num_unique_values\": 810,\n        \"samples\": [\n          411,\n          2019,\n          948\n        ],\n        \"semantic_type\": \"\",\n        \"description\": \"\"\n      }\n    },\n    {\n      \"column\": \"households\",\n      \"properties\": {\n        \"dtype\": \"number\",\n        \"std\": 383,\n        \"min\": 9,\n        \"max\": 4072,\n        \"num_unique_values\": 611,\n        \"samples\": [\n          377,\n          535,\n          364\n        ],\n        \"semantic_type\": \"\",\n        \"description\": \"\"\n      }\n    },\n    {\n      \"column\": \"median_income\",\n      \"properties\": {\n        \"dtype\": \"number\",\n        \"std\": 1.9400462523390876,\n        \"min\": 0.536,\n        \"max\": 15.0001,\n        \"num_unique_values\": 909,\n        \"samples\": [\n          3.4492,\n          4.1792,\n          2.1181\n        ],\n        \"semantic_type\": \"\",\n        \"description\": \"\"\n      }\n    },\n    {\n      \"column\": \"median_house_value\",\n      \"properties\": {\n        \"dtype\": \"number\",\n        \"std\": 113750,\n        \"min\": 14999,\n        \"max\": 500001,\n        \"num_unique_values\": 763,\n        \"samples\": [\n          180500,\n          254000,\n          175700\n        ],\n        \"semantic_type\": \"\",\n        \"description\": \"\"\n      }\n    },\n    {\n      \"column\": \"ocean_proximity_INLAND\",\n      \"properties\": {\n        \"dtype\": \"boolean\",\n        \"num_unique_values\": 2,\n        \"samples\": [\n          true,\n          false\n        ],\n        \"semantic_type\": \"\",\n        \"description\": \"\"\n      }\n    },\n    {\n      \"column\": \"ocean_proximity_NEAR BAY\",\n      \"properties\": {\n        \"dtype\": \"boolean\",\n        \"num_unique_values\": 2,\n        \"samples\": [\n          false,\n          true\n        ],\n        \"semantic_type\": \"\",\n        \"description\": \"\"\n      }\n    },\n    {\n      \"column\": \"ocean_proximity_NEAR OCEAN\",\n      \"properties\": {\n        \"dtype\": \"boolean\",\n        \"num_unique_values\": 2,\n        \"samples\": [\n          true,\n          false\n        ],\n        \"semantic_type\": \"\",\n        \"description\": \"\"\n      }\n    }\n  ]\n}"
            }
          },
          "metadata": {},
          "execution_count": 39
        }
      ]
    },
    {
      "cell_type": "code",
      "source": [
        "# Define Features (X) and Target Variable (y)\n",
        "X = df_housing.drop(columns=[\"median_house_value\", \"No.\"])  # Drop ID & target\n",
        "y = df_housing[\"median_house_value\"]"
      ],
      "metadata": {
        "id": "E50hG2rDVS20"
      },
      "execution_count": 40,
      "outputs": []
    },
    {
      "cell_type": "code",
      "source": [
        "# Split dataset: Last 190 rows for test set (as per coursework instruction)\n",
        "X_train_full, X_test, y_train_full, y_test = X.iloc[:-190], X.iloc[-190:], y.iloc[:-190], y.iloc[-190:]\n",
        "\n",
        "# Further split training set into training & validation (80% train, 20% validation)\n",
        "X_train, X_val, y_train, y_val = train_test_split(X_train_full, y_train_full, test_size=0.2, random_state=42)"
      ],
      "metadata": {
        "id": "74CclfrPVWI8"
      },
      "execution_count": 41,
      "outputs": []
    },
    {
      "cell_type": "code",
      "source": [
        "# Standardize numerical features (Recommended for Gradient Boosting)\n",
        "scaler = StandardScaler()\n",
        "X_train = scaler.fit_transform(X_train)\n",
        "X_val = scaler.transform(X_val)\n",
        "X_test = scaler.transform(X_test)"
      ],
      "metadata": {
        "id": "CKnVH0hdVYAH"
      },
      "execution_count": 42,
      "outputs": []
    },
    {
      "cell_type": "markdown",
      "source": [
        "## 2.3 Model 1: Linear Regression (Baseline Model)"
      ],
      "metadata": {
        "id": "jrd8GElfVrXa"
      }
    },
    {
      "cell_type": "code",
      "source": [
        "# Train Linear Regression Model\n",
        "lin_reg = LinearRegression()\n",
        "lin_reg.fit(X_train, y_train)\n",
        "\n",
        "# Predict on validation set\n",
        "pred_lin = lin_reg.predict(X_val)"
      ],
      "metadata": {
        "id": "ubJpfjs8VrEZ"
      },
      "execution_count": 43,
      "outputs": []
    },
    {
      "cell_type": "code",
      "source": [
        "# Evaluate performance\n",
        "rmse_lin = np.sqrt(mean_squared_error(y_val, pred_lin))  # RMSE\n",
        "r2_lin = r2_score(y_val, pred_lin)  # R² Score\n",
        "mae_lin = mean_absolute_error(y_val, pred_lin)  # MAE\n",
        "\n",
        "print(f\"Linear Regression - RMSE: {rmse_lin:.2f}, R²: {r2_lin:.4f}, MAE: {mae_lin:.2f}\")"
      ],
      "metadata": {
        "colab": {
          "base_uri": "https://localhost:8080/"
        },
        "id": "X_9SYnq0WUbE",
        "outputId": "95a00bdb-9d88-4163-bf10-0ecb3ac23577"
      },
      "execution_count": 44,
      "outputs": [
        {
          "output_type": "stream",
          "name": "stdout",
          "text": [
            "Linear Regression - RMSE: 72679.80, R²: 0.5642, MAE: 55079.70\n"
          ]
        }
      ]
    },
    {
      "cell_type": "code",
      "source": [
        "# Scatter plot: Actual vs Predicted\n",
        "plt.figure(figsize=(6,4))\n",
        "sns.scatterplot(x=y_val, y=y_val, color=\"green\", label=\"Actual Values\", alpha=0.6)\n",
        "sns.scatterplot(x=y_val, y=pred_lin, color=\"orange\", label=\"Predicted Values\", alpha=0.6)\n",
        "plt.xlabel(\"Actual House Prices\")\n",
        "plt.ylabel(\"Predicted Prices\")\n",
        "plt.title(\"Linear Regression - Actual vs Predicted\")\n",
        "plt.show()"
      ],
      "metadata": {
        "colab": {
          "base_uri": "https://localhost:8080/",
          "height": 54
        },
        "id": "G1pi52pWWa5r",
        "outputId": "497e87b0-b8f1-4b26-a087-f4b3d3ac338b"
      },
      "execution_count": 45,
      "outputs": [
        {
          "output_type": "display_data",
          "data": {
            "text/plain": [
              "<Figure size 600x400 with 1 Axes>"
            ],
            "image/png": "[encoded data removed]"
          },
          "metadata": {}
        }
      ]
    },
    {
      "cell_type": "markdown",
      "source": [
        "## 2.4 Model 2: Random Forest"
      ],
      "metadata": {
        "id": "sX9xnc_7YfxP"
      }
    },
    {
      "cell_type": "markdown",
      "source": [
        "Hyperparameter tuning for Random Forest Model"
      ],
      "metadata": {
        "id": "KeZpN88Tq9WZ"
      }
    },
    {
      "cell_type": "code",
      "source": [
        "rf_param_grid = {\n",
        "    \"n_estimators\": [50, 100, 200],\n",
        "    \"max_depth\": [5, 10, 15]\n",
        "}\n",
        "\n",
        "rf_grid = GridSearchCV(RandomForestRegressor(random_state=42), rf_param_grid, cv=5, scoring=\"neg_root_mean_squared_error\")\n",
        "rf_grid.fit(X_train, y_train)\n",
        "\n",
        "# Print the best parameters\n",
        "print(\"Best parameters for Random Forest:\", rf_grid.best_params_)"
      ],
      "metadata": {
        "colab": {
          "base_uri": "https://localhost:8080/"
        },
        "id": "A3j4CKgDq7r4",
        "outputId": "74339e63-7f78-49fc-81dd-e4f2a4f270e4"
      },
      "execution_count": 46,
      "outputs": [
        {
          "output_type": "stream",
          "name": "stdout",
          "text": [
            "Best parameters for Random Forest: {'max_depth': 15, 'n_estimators': 100}\n"
          ]
        }
      ]
    },
    {
      "cell_type": "code",
      "source": [
        "# Train Random Forest Model\n",
        "rf_reg = RandomForestRegressor(**rf_grid.best_params_, random_state=42)\n",
        "rf_reg.fit(X_train, y_train)\n",
        "\n",
        "# Predict on validation set\n",
        "pred_rf = rf_reg.predict(X_val)"
      ],
      "metadata": {
        "id": "Po_yPxzcYx6z"
      },
      "execution_count": 47,
      "outputs": []
    },
    {
      "cell_type": "code",
      "source": [
        "# Evaluate performance\n",
        "rmse_rf = np.sqrt(mean_squared_error(y_val, pred_rf))\n",
        "r2_rf = r2_score(y_val, pred_rf)\n",
        "mae_rf = mean_absolute_error(y_val, pred_rf)\n",
        "\n",
        "print(f\"Random Forest - RMSE: {rmse_rf:.2f}, R²: {r2_rf:.4f}, MAE: {mae_rf:.2f}\")"
      ],
      "metadata": {
        "colab": {
          "base_uri": "https://localhost:8080/"
        },
        "id": "NFCmRdERYzAr",
        "outputId": "1abaabfc-40cb-4f68-a4b4-3d6fa47b5048"
      },
      "execution_count": 48,
      "outputs": [
        {
          "output_type": "stream",
          "name": "stdout",
          "text": [
            "Random Forest - RMSE: 70158.17, R²: 0.5939, MAE: 49713.82\n"
          ]
        }
      ]
    },
    {
      "cell_type": "code",
      "source": [
        "# Scatter plot: Actual vs Predicted\n",
        "plt.figure(figsize=(6,4))\n",
        "sns.scatterplot(x=y_val, y=y_val, color=\"green\", label=\"Actual Values\", alpha=0.6)\n",
        "sns.scatterplot(x=y_val, y=pred_rf, color=\"cyan\", label=\"Predicted Values\", alpha=0.6)\n",
        "plt.xlabel(\"Actual House Prices\")\n",
        "plt.ylabel(\"Predicted Prices\")\n",
        "plt.title(\"Random Forest - Actual vs Predicted\")\n",
        "plt.legend()\n",
        "plt.show()"
      ],
      "metadata": {
        "colab": {
          "base_uri": "https://localhost:8080/",
          "height": 54
        },
        "id": "WovrU1W0Y0op",
        "outputId": "210515ab-8d31-44ac-94f2-76356ef7164e"
      },
      "execution_count": 49,
      "outputs": [
        {
          "output_type": "display_data",
          "data": {
            "text/plain": [
              "<Figure size 600x400 with 1 Axes>"
            ],
            "image/png": "[encoded data removed]"
          },
          "metadata": {}
        }
      ]
    },
    {
      "cell_type": "markdown",
      "source": [
        "## 2.5 Model 3: Gradient Boosting"
      ],
      "metadata": {
        "id": "HkncJYNtZxDR"
      }
    },
    {
      "cell_type": "markdown",
      "source": [
        "Hyperparameter tuning for Gradient Boosting Model"
      ],
      "metadata": {
        "id": "ZwJ42YemsBqh"
      }
    },
    {
      "cell_type": "code",
      "source": [
        "# Hyperparameter tuning for Gradient Boosting\n",
        "gbr_param_grid = {\n",
        "    \"n_estimators\": [100, 200, 300],\n",
        "    \"learning_rate\": [0.01, 0.1, 0.2],\n",
        "    \"max_depth\": [3, 5, 7]\n",
        "}\n",
        "\n",
        "gbr_grid = GridSearchCV(GradientBoostingRegressor(random_state=42), gbr_param_grid, cv=5, scoring=\"neg_root_mean_squared_error\")\n",
        "gbr_grid.fit(X_train, y_train)\n",
        "\n",
        "# Print the best parameters\n",
        "print(\"Best parameters for Gradient Boosting:\", gbr_grid.best_params_)"
      ],
      "metadata": {
        "colab": {
          "base_uri": "https://localhost:8080/"
        },
        "id": "x-YpHitosFJ2",
        "outputId": "f29d17ee-dd3d-4c46-9b39-664606a295b4"
      },
      "execution_count": 50,
      "outputs": [
        {
          "output_type": "stream",
          "name": "stdout",
          "text": [
            "Best parameters for Gradient Boosting: {'learning_rate': 0.1, 'max_depth': 3, 'n_estimators': 300}\n"
          ]
        }
      ]
    },
    {
      "cell_type": "code",
      "source": [
        "# Train Gradient Boosting Model with Best Parameters\n",
        "gbr = GradientBoostingRegressor(**gbr_grid.best_params_, random_state=42)\n",
        "gbr.fit(X_train, y_train)\n",
        "\n",
        "# Predict on validation set\n",
        "pred_gbr = gbr.predict(X_val)"
      ],
      "metadata": {
        "id": "MuBH80DPZ0AB"
      },
      "execution_count": 51,
      "outputs": []
    },
    {
      "cell_type": "code",
      "source": [
        "# Evaluate performance\n",
        "rmse_gbr = np.sqrt(mean_squared_error(y_val, pred_gbr))\n",
        "r2_gbr = r2_score(y_val, pred_gbr)\n",
        "mae_gbr = mean_absolute_error(y_val, pred_gbr)\n",
        "\n",
        "print(f\"Gradient Boosting - RMSE: {rmse_gbr:.2f}, R²: {r2_gbr:.4f}, MAE: {mae_gbr:.2f}\")"
      ],
      "metadata": {
        "colab": {
          "base_uri": "https://localhost:8080/"
        },
        "id": "ctLOPGtfZ3nC",
        "outputId": "4b05a1d3-3c86-478f-f37a-fe889f4935fb"
      },
      "execution_count": 52,
      "outputs": [
        {
          "output_type": "stream",
          "name": "stdout",
          "text": [
            "Gradient Boosting - RMSE: 62672.91, R²: 0.6759, MAE: 43925.05\n"
          ]
        }
      ]
    },
    {
      "cell_type": "code",
      "source": [
        "# Scatter plot: Actual vs Predicted\n",
        "plt.figure(figsize=(6,4))\n",
        "sns.scatterplot(x=y_val, y=y_val, color=\"green\", label=\"Actual Values\", alpha=0.6)\n",
        "sns.scatterplot(x=y_val, y=pred_gbr, color=\"purple\", label=\"Predicted Values\", alpha=0.6)\n",
        "plt.xlabel(\"Actual House Prices\")\n",
        "plt.ylabel(\"Predicted Prices\")\n",
        "plt.title(\"Gradient Boosting - Actual vs Predicted\")\n",
        "plt.legend()\n",
        "plt.show()"
      ],
      "metadata": {
        "colab": {
          "base_uri": "https://localhost:8080/",
          "height": 54
        },
        "id": "b2QzQMKdZ5Cy",
        "outputId": "4b63437c-d01e-4c55-abe4-43c08c38a28a"
      },
      "execution_count": 53,
      "outputs": [
        {
          "output_type": "display_data",
          "data": {
            "text/plain": [
              "<Figure size 600x400 with 1 Axes>"
            ],
            "image/png": "[encoded data removed]"
          },
          "metadata": {}
        }
      ]
    },
    {
      "cell_type": "markdown",
      "source": [
        "## 2.6 Comparing Model Performance"
      ],
      "metadata": {
        "id": "qV4aMGXhaduP"
      }
    },
    {
      "cell_type": "code",
      "source": [
        "# Store results in a DataFrame for comparison\n",
        "results_df_reg = pd.DataFrame({\n",
        "    \"Model\": [\"Linear Regression\", \"Random Forest\", \"Gradient Boosting\"],\n",
        "    \"RMSE\": [rmse_lin, rmse_rf, rmse_gbr],\n",
        "    \"R²\": [r2_lin, r2_rf, r2_gbr],\n",
        "    \"MAE\": [mae_lin, mae_rf, mae_gbr]\n",
        "})\n",
        "\n",
        "# Print results nicely formatted\n",
        "print(\"Regression Model Comparison:\\n\")\n",
        "print(results_df_reg.to_string(index=False))  # Print without the default index\n",
        "\n",
        "# Display as a styled Pandas table (Optional: Only works in Jupyter/Colab)\n",
        "# results_df_reg.style.set_caption(\"Regression Model Performance Comparison\")\n"
      ],
      "metadata": {
        "colab": {
          "base_uri": "https://localhost:8080/"
        },
        "id": "G1xcVPGxtP29",
        "outputId": "c6d465fb-9fad-4717-ed65-9ea521fab23d"
      },
      "execution_count": 90,
      "outputs": [
        {
          "output_type": "stream",
          "name": "stdout",
          "text": [
            "Regression Model Comparison:\n",
            "\n",
            "            Model         RMSE       R²          MAE\n",
            "Linear Regression 72679.798145 0.564180 55079.698451\n",
            "    Random Forest 70158.170935 0.593897 49713.816087\n",
            "Gradient Boosting 62672.912600 0.675929 43925.052732\n"
          ]
        }
      ]
    },
    {
      "cell_type": "code",
      "source": [
        "# Set figure size\n",
        "fig, ax = plt.subplots(1, 3, figsize=(18, 5))  # 3 plots: RMSE, MAE, R²\n",
        "\n",
        "# RMSE Bar Chart\n",
        "ax[0].bar(results_df_reg[\"Model\"], results_df_reg[\"RMSE\"], color=[\"blue\", \"green\", \"purple\"])\n",
        "ax[0].set_title(\"RMSE Comparison\")\n",
        "ax[0].set_ylabel(\"RMSE (Lower is Better)\")\n",
        "\n",
        "# MAE Bar Chart\n",
        "ax[1].bar(results_df_reg[\"Model\"], results_df_reg[\"MAE\"], color=[\"blue\", \"green\", \"purple\"])\n",
        "ax[1].set_title(\"MAE Comparison\")\n",
        "ax[1].set_ylabel(\"MAE (Lower is Better)\")\n",
        "\n",
        "# R² Score Bar Chart\n",
        "ax[2].bar(results_df_reg[\"Model\"], results_df_reg[\"R²\"], color=[\"blue\", \"green\", \"purple\"])\n",
        "ax[2].set_title(\"R² Score Comparison\")\n",
        "ax[2].set_ylabel(\"R² (Higher is Better)\")\n",
        "ax[2].set_ylim(0, 1)  # Ensure R² scale is from 0 to 1\n",
        "\n",
        "plt.tight_layout()\n",
        "plt.show()"
      ],
      "metadata": {
        "colab": {
          "base_uri": "https://localhost:8080/",
          "height": 450
        },
        "id": "BzCU3CVKtf25",
        "outputId": "8cdbd367-c6d9-44b3-bbf9-ebe57db20a92"
      },
      "execution_count": 91,
      "outputs": [
        {
          "output_type": "display_data",
          "data": {
            "text/plain": [
              "<Figure size 1800x500 with 3 Axes>"
            ],
            "image/png": "[encoded data removed]"
          },
          "metadata": {}
        }
      ]
    },
    {
      "cell_type": "markdown",
      "source": [
        "# **3. Classification Task using Titanic Dataset**"
      ],
      "metadata": {
        "id": "IV7foqDh3e8s"
      }
    },
    {
      "cell_type": "markdown",
      "source": [
        "## 3.1 Importing Dataset from GitHub"
      ],
      "metadata": {
        "id": "BjeN7Rn64Spv"
      }
    },
    {
      "cell_type": "code",
      "source": [
        "df_titanic = pd.read_csv(\"https://raw.githubusercontent.com/ryuh-h/ml-regression-classification/refs/heads/main/COMP1816_Titanic_Dataset_Classification.csv\")"
      ],
      "metadata": {
        "id": "nGJbSkOS4X9I"
      },
      "execution_count": 56,
      "outputs": []
    },
    {
      "cell_type": "code",
      "source": [
        "df_titanic.head()"
      ],
      "metadata": {
        "colab": {
          "base_uri": "https://localhost:8080/",
          "height": 206
        },
        "id": "vfUFlrMS47OD",
        "outputId": "0d96fe23-e3e7-4e21-e715-5314dcfeb6ec"
      },
      "execution_count": 57,
      "outputs": [
        {
          "output_type": "execute_result",
          "data": {
            "text/plain": [
              "   PassengerId  Pclass                                          Name     Sex  \\\n",
              "0            1     3.0                       Braund, Mr. Owen Harris    male   \n",
              "1            2     1.0                                           NaN  female   \n",
              "2            3     3.0                        Heikkinen, Miss. Laina  female   \n",
              "3            4     1.0  Futrelle, Mrs. Jacques Heath (Lily May Peel)  female   \n",
              "4            5     3.0                      Allen, Mr. William Henry    male   \n",
              "\n",
              "    Age  SibSp  Parch        Ticket No.     Fare Embarked  Survival  \n",
              "0  22.0    1.0    0.0         A/5 21171   7.2500        S       0.0  \n",
              "1  38.0    1.0    0.0          PC 17599  71.2833        C       1.0  \n",
              "2  26.0    0.0    0.0  STON/O2. 3101282   7.9250        S       1.0  \n",
              "3  35.0    1.0    0.0            113803  53.1000        S       1.0  \n",
              "4  35.0    0.0    0.0            373450   8.0500        S       0.0  "
            ],
            "text/html": [
              "\n",
              "  <div id=\"df-3d4c1457-2a24-495f-986e-5108b4049021\" class=\"colab-df-container\">\n",
              "    <div>\n",
              "<style scoped>\n",
              "    .dataframe tbody tr th:only-of-type {\n",
              "        vertical-align: middle;\n",
              "    }\n",
              "\n",
              "    .dataframe tbody tr th {\n",
              "        vertical-align: top;\n",
              "    }\n",
              "\n",
              "    .dataframe thead th {\n",
              "        text-align: right;\n",
              "    }\n",
              "</style>\n",
              "<table border=\"1\" class=\"dataframe\">\n",
              "  <thead>\n",
              "    <tr style=\"text-align: right;\">\n",
              "      <th></th>\n",
              "      <th>PassengerId</th>\n",
              "      <th>Pclass</th>\n",
              "      <th>Name</th>\n",
              "      <th>Sex</th>\n",
              "      <th>Age</th>\n",
              "      <th>SibSp</th>\n",
              "      <th>Parch</th>\n",
              "      <th>Ticket No.</th>\n",
              "      <th>Fare</th>\n",
              "      <th>Embarked</th>\n",
              "      <th>Survival</th>\n",
              "    </tr>\n",
              "  </thead>\n",
              "  <tbody>\n",
              "    <tr>\n",
              "      <th>0</th>\n",
              "      <td>1</td>\n",
              "      <td>3.0</td>\n",
              "      <td>Braund, Mr. Owen Harris</td>\n",
              "      <td>male</td>\n",
              "      <td>22.0</td>\n",
              "      <td>1.0</td>\n",
              "      <td>0.0</td>\n",
              "      <td>A/5 21171</td>\n",
              "      <td>7.2500</td>\n",
              "      <td>S</td>\n",
              "      <td>0.0</td>\n",
              "    </tr>\n",
              "    <tr>\n",
              "      <th>1</th>\n",
              "      <td>2</td>\n",
              "      <td>1.0</td>\n",
              "      <td>NaN</td>\n",
              "      <td>female</td>\n",
              "      <td>38.0</td>\n",
              "      <td>1.0</td>\n",
              "      <td>0.0</td>\n",
              "      <td>PC 17599</td>\n",
              "      <td>71.2833</td>\n",
              "      <td>C</td>\n",
              "      <td>1.0</td>\n",
              "    </tr>\n",
              "    <tr>\n",
              "      <th>2</th>\n",
              "      <td>3</td>\n",
              "      <td>3.0</td>\n",
              "      <td>Heikkinen, Miss. Laina</td>\n",
              "      <td>female</td>\n",
              "      <td>26.0</td>\n",
              "      <td>0.0</td>\n",
              "      <td>0.0</td>\n",
              "      <td>STON/O2. 3101282</td>\n",
              "      <td>7.9250</td>\n",
              "      <td>S</td>\n",
              "      <td>1.0</td>\n",
              "    </tr>\n",
              "    <tr>\n",
              "      <th>3</th>\n",
              "      <td>4</td>\n",
              "      <td>1.0</td>\n",
              "      <td>Futrelle, Mrs. Jacques Heath (Lily May Peel)</td>\n",
              "      <td>female</td>\n",
              "      <td>35.0</td>\n",
              "      <td>1.0</td>\n",
              "      <td>0.0</td>\n",
              "      <td>113803</td>\n",
              "      <td>53.1000</td>\n",
              "      <td>S</td>\n",
              "      <td>1.0</td>\n",
              "    </tr>\n",
              "    <tr>\n",
              "      <th>4</th>\n",
              "      <td>5</td>\n",
              "      <td>3.0</td>\n",
              "      <td>Allen, Mr. William Henry</td>\n",
              "      <td>male</td>\n",
              "      <td>35.0</td>\n",
              "      <td>0.0</td>\n",
              "      <td>0.0</td>\n",
              "      <td>373450</td>\n",
              "      <td>8.0500</td>\n",
              "      <td>S</td>\n",
              "      <td>0.0</td>\n",
              "    </tr>\n",
              "  </tbody>\n",
              "</table>\n",
              "</div>\n",
              "    <div class=\"colab-df-buttons\">\n",
              "\n",
              "  <div class=\"colab-df-container\">\n",
              "    <button class=\"colab-df-convert\" onclick=\"convertToInteractive('df-3d4c1457-2a24-495f-986e-5108b4049021')\"\n",
              "            title=\"Convert this dataframe to an interactive table.\"\n",
              "            style=\"display:none;\">\n",
              "\n",
              "  <svg xmlns=\"http://www.w3.org/2000/svg\" height=\"24px\" viewBox=\"0 -960 960 960\">\n",
              "    <path d=\"M120-120v-720h720v720H120Zm60-500h600v-160H180v160Zm220 220h160v-160H400v160Zm0 220h160v-160H400v160ZM180-400h160v-160H180v160Zm440 0h160v-160H620v160ZM180-180h160v-160H180v160Zm440 0h160v-160H620v160Z\"/>\n",
              "  </svg>\n",
              "    </button>\n",
              "\n",
              "  <style>\n",
              "    .colab-df-container {\n",
              "      display:flex;\n",
              "      gap: 12px;\n",
              "    }\n",
              "\n",
              "    .colab-df-convert {\n",
              "      background-color: #E8F0FE;\n",
              "      border: none;\n",
              "      border-radius: 50%;\n",
              "      cursor: pointer;\n",
              "      display: none;\n",
              "      fill: #1967D2;\n",
              "      height: 32px;\n",
              "      padding: 0 0 0 0;\n",
              "      width: 32px;\n",
              "    }\n",
              "\n",
              "    .colab-df-convert:hover {\n",
              "      background-color: #E2EBFA;\n",
              "      box-shadow: 0px 1px 2px rgba(60, 64, 67, 0.3), 0px 1px 3px 1px rgba(60, 64, 67, 0.15);\n",
              "      fill: #174EA6;\n",
              "    }\n",
              "\n",
              "    .colab-df-buttons div {\n",
              "      margin-bottom: 4px;\n",
              "    }\n",
              "\n",
              "    [theme=dark] .colab-df-convert {\n",
              "      background-color: #3B4455;\n",
              "      fill: #D2E3FC;\n",
              "    }\n",
              "\n",
              "    [theme=dark] .colab-df-convert:hover {\n",
              "      background-color: #434B5C;\n",
              "      box-shadow: 0px 1px 3px 1px rgba(0, 0, 0, 0.15);\n",
              "      filter: drop-shadow(0px 1px 2px rgba(0, 0, 0, 0.3));\n",
              "      fill: #FFFFFF;\n",
              "    }\n",
              "  </style>\n",
              "\n",
              "    <script>\n",
              "      const buttonEl =\n",
              "        document.querySelector('#df-3d4c1457-2a24-495f-986e-5108b4049021 button.colab-df-convert');\n",
              "      buttonEl.style.display =\n",
              "        google.colab.kernel.accessAllowed ? 'block' : 'none';\n",
              "\n",
              "      async function convertToInteractive(key) {\n",
              "        const element = document.querySelector('#df-3d4c1457-2a24-495f-986e-5108b4049021');\n",
              "        const dataTable =\n",
              "          await google.colab.kernel.invokeFunction('convertToInteractive',\n",
              "                                                    [key], {});\n",
              "        if (!dataTable) return;\n",
              "\n",
              "        const docLinkHtml = 'Like what you see? Visit the ' +\n",
              "          '<a target=\"_blank\" href=https://colab.research.google.com/notebooks/data_table.ipynb>data table notebook</a>'\n",
              "          + ' to learn more about interactive tables.';\n",
              "        element.innerHTML = '';\n",
              "        dataTable['output_type'] = 'display_data';\n",
              "        await google.colab.output.renderOutput(dataTable, element);\n",
              "        const docLink = document.createElement('div');\n",
              "        docLink.innerHTML = docLinkHtml;\n",
              "        element.appendChild(docLink);\n",
              "      }\n",
              "    </script>\n",
              "  </div>\n",
              "\n",
              "\n",
              "<div id=\"df-864e63a4-ec40-4cee-b85b-b2badd282902\">\n",
              "  <button class=\"colab-df-quickchart\" onclick=\"quickchart('df-864e63a4-ec40-4cee-b85b-b2badd282902')\"\n",
              "            title=\"Suggest charts\"\n",
              "            style=\"display:none;\">\n",
              "\n",
              "<svg xmlns=\"http://www.w3.org/2000/svg\" height=\"24px\"viewBox=\"0 0 24 24\"\n",
              "     width=\"24px\">\n",
              "    <g>\n",
              "        <path d=\"M19 3H5c-1.1 0-2 .9-2 2v14c0 1.1.9 2 2 2h14c1.1 0 2-.9 2-2V5c0-1.1-.9-2-2-2zM9 17H7v-7h2v7zm4 0h-2V7h2v10zm4 0h-2v-4h2v4z\"/>\n",
              "    </g>\n",
              "</svg>\n",
              "  </button>\n",
              "\n",
              "<style>\n",
              "  .colab-df-quickchart {\n",
              "      --bg-color: #E8F0FE;\n",
              "      --fill-color: #1967D2;\n",
              "      --hover-bg-color: #E2EBFA;\n",
              "      --hover-fill-color: #174EA6;\n",
              "      --disabled-fill-color: #AAA;\n",
              "      --disabled-bg-color: #DDD;\n",
              "  }\n",
              "\n",
              "  [theme=dark] .colab-df-quickchart {\n",
              "      --bg-color: #3B4455;\n",
              "      --fill-color: #D2E3FC;\n",
              "      --hover-bg-color: #434B5C;\n",
              "      --hover-fill-color: #FFFFFF;\n",
              "      --disabled-bg-color: #3B4455;\n",
              "      --disabled-fill-color: #666;\n",
              "  }\n",
              "\n",
              "  .colab-df-quickchart {\n",
              "    background-color: var(--bg-color);\n",
              "    border: none;\n",
              "    border-radius: 50%;\n",
              "    cursor: pointer;\n",
              "    display: none;\n",
              "    fill: var(--fill-color);\n",
              "    height: 32px;\n",
              "    padding: 0;\n",
              "    width: 32px;\n",
              "  }\n",
              "\n",
              "  .colab-df-quickchart:hover {\n",
              "    background-color: var(--hover-bg-color);\n",
              "    box-shadow: 0 1px 2px rgba(60, 64, 67, 0.3), 0 1px 3px 1px rgba(60, 64, 67, 0.15);\n",
              "    fill: var(--button-hover-fill-color);\n",
              "  }\n",
              "\n",
              "  .colab-df-quickchart-complete:disabled,\n",
              "  .colab-df-quickchart-complete:disabled:hover {\n",
              "    background-color: var(--disabled-bg-color);\n",
              "    fill: var(--disabled-fill-color);\n",
              "    box-shadow: none;\n",
              "  }\n",
              "\n",
              "  .colab-df-spinner {\n",
              "    border: 2px solid var(--fill-color);\n",
              "    border-color: transparent;\n",
              "    border-bottom-color: var(--fill-color);\n",
              "    animation:\n",
              "      spin 1s steps(1) infinite;\n",
              "  }\n",
              "\n",
              "  @keyframes spin {\n",
              "    0% {\n",
              "      border-color: transparent;\n",
              "      border-bottom-color: var(--fill-color);\n",
              "      border-left-color: var(--fill-color);\n",
              "    }\n",
              "    20% {\n",
              "      border-color: transparent;\n",
              "      border-left-color: var(--fill-color);\n",
              "      border-top-color: var(--fill-color);\n",
              "    }\n",
              "    30% {\n",
              "      border-color: transparent;\n",
              "      border-left-color: var(--fill-color);\n",
              "      border-top-color: var(--fill-color);\n",
              "      border-right-color: var(--fill-color);\n",
              "    }\n",
              "    40% {\n",
              "      border-color: transparent;\n",
              "      border-right-color: var(--fill-color);\n",
              "      border-top-color: var(--fill-color);\n",
              "    }\n",
              "    60% {\n",
              "      border-color: transparent;\n",
              "      border-right-color: var(--fill-color);\n",
              "    }\n",
              "    80% {\n",
              "      border-color: transparent;\n",
              "      border-right-color: var(--fill-color);\n",
              "      border-bottom-color: var(--fill-color);\n",
              "    }\n",
              "    90% {\n",
              "      border-color: transparent;\n",
              "      border-bottom-color: var(--fill-color);\n",
              "    }\n",
              "  }\n",
              "</style>\n",
              "\n",
              "  <script>\n",
              "    async function quickchart(key) {\n",
              "      const quickchartButtonEl =\n",
              "        document.querySelector('#' + key + ' button');\n",
              "      quickchartButtonEl.disabled = true;  // To prevent multiple clicks.\n",
              "      quickchartButtonEl.classList.add('colab-df-spinner');\n",
              "      try {\n",
              "        const charts = await google.colab.kernel.invokeFunction(\n",
              "            'suggestCharts', [key], {});\n",
              "      } catch (error) {\n",
              "        console.error('Error during call to suggestCharts:', error);\n",
              "      }\n",
              "      quickchartButtonEl.classList.remove('colab-df-spinner');\n",
              "      quickchartButtonEl.classList.add('colab-df-quickchart-complete');\n",
              "    }\n",
              "    (() => {\n",
              "      let quickchartButtonEl =\n",
              "        document.querySelector('#df-864e63a4-ec40-4cee-b85b-b2badd282902 button');\n",
              "      quickchartButtonEl.style.display =\n",
              "        google.colab.kernel.accessAllowed ? 'block' : 'none';\n",
              "    })();\n",
              "  </script>\n",
              "</div>\n",
              "\n",
              "    </div>\n",
              "  </div>\n"
            ],
            "application/vnd.google.colaboratory.intrinsic+json": {
              "type": "dataframe",
              "variable_name": "df_titanic",
              "summary": "{\n  \"name\": \"df_titanic\",\n  \"rows\": 890,\n  \"fields\": [\n    {\n      \"column\": \"PassengerId\",\n      \"properties\": {\n        \"dtype\": \"number\",\n        \"std\": 257,\n        \"min\": 1,\n        \"max\": 890,\n        \"num_unique_values\": 890,\n        \"samples\": [\n          281,\n          435,\n          40\n        ],\n        \"semantic_type\": \"\",\n        \"description\": \"\"\n      }\n    },\n    {\n      \"column\": \"Pclass\",\n      \"properties\": {\n        \"dtype\": \"number\",\n        \"std\": 0.8365642198104118,\n        \"min\": 1.0,\n        \"max\": 3.0,\n        \"num_unique_values\": 3,\n        \"samples\": [\n          3.0,\n          1.0,\n          2.0\n        ],\n        \"semantic_type\": \"\",\n        \"description\": \"\"\n      }\n    },\n    {\n      \"column\": \"Name\",\n      \"properties\": {\n        \"dtype\": \"string\",\n        \"num_unique_values\": 885,\n        \"samples\": [\n          \"Lennon, Mr. Denis\",\n          \"Carter, Mr. William Ernest\",\n          \"Cleaver, Miss. Alice\"\n        ],\n        \"semantic_type\": \"\",\n        \"description\": \"\"\n      }\n    },\n    {\n      \"column\": \"Sex\",\n      \"properties\": {\n        \"dtype\": \"category\",\n        \"num_unique_values\": 2,\n        \"samples\": [\n          \"female\",\n          \"male\"\n        ],\n        \"semantic_type\": \"\",\n        \"description\": \"\"\n      }\n    },\n    {\n      \"column\": \"Age\",\n      \"properties\": {\n        \"dtype\": \"number\",\n        \"std\": 112.05343685270175,\n        \"min\": -20.0,\n        \"max\": 3000.0,\n        \"num_unique_values\": 91,\n        \"samples\": [\n          23.0,\n          21.0\n        ],\n        \"semantic_type\": \"\",\n        \"description\": \"\"\n      }\n    },\n    {\n      \"column\": \"SibSp\",\n      \"properties\": {\n        \"dtype\": \"number\",\n        \"std\": 1.1042111553100484,\n        \"min\": 0.0,\n        \"max\": 8.0,\n        \"num_unique_values\": 7,\n        \"samples\": [\n          1.0,\n          0.0\n        ],\n        \"semantic_type\": \"\",\n        \"description\": \"\"\n      }\n    },\n    {\n      \"column\": \"Parch\",\n      \"properties\": {\n        \"dtype\": \"number\",\n        \"std\": 0.8071131205877018,\n        \"min\": 0.0,\n        \"max\": 6.0,\n        \"num_unique_values\": 7,\n        \"samples\": [\n          0.0,\n          1.0\n        ],\n        \"semantic_type\": \"\",\n        \"description\": \"\"\n      }\n    },\n    {\n      \"column\": \"Ticket No.\",\n      \"properties\": {\n        \"dtype\": \"string\",\n        \"num_unique_values\": 678,\n        \"samples\": [\n          \"SOTON/O2 3101287\",\n          \"350052\"\n        ],\n        \"semantic_type\": \"\",\n        \"description\": \"\"\n      }\n    },\n    {\n      \"column\": \"Fare\",\n      \"properties\": {\n        \"dtype\": \"number\",\n        \"std\": 49.76066685328084,\n        \"min\": 0.0,\n        \"max\": 512.3292,\n        \"num_unique_values\": 248,\n        \"samples\": [\n          11.2417,\n          51.8625\n        ],\n        \"semantic_type\": \"\",\n        \"description\": \"\"\n      }\n    },\n    {\n      \"column\": \"Embarked\",\n      \"properties\": {\n        \"dtype\": \"category\",\n        \"num_unique_values\": 3,\n        \"samples\": [\n          \"S\",\n          \"C\"\n        ],\n        \"semantic_type\": \"\",\n        \"description\": \"\"\n      }\n    },\n    {\n      \"column\": \"Survival\",\n      \"properties\": {\n        \"dtype\": \"number\",\n        \"std\": 0.48710659163884584,\n        \"min\": 0.0,\n        \"max\": 1.0,\n        \"num_unique_values\": 2,\n        \"samples\": [\n          1.0,\n          0.0\n        ],\n        \"semantic_type\": \"\",\n        \"description\": \"\"\n      }\n    }\n  ]\n}"
            }
          },
          "metadata": {},
          "execution_count": 57
        }
      ]
    },
    {
      "cell_type": "code",
      "source": [
        "df_titanic.info()"
      ],
      "metadata": {
        "colab": {
          "base_uri": "https://localhost:8080/"
        },
        "id": "1GStte2I5OjN",
        "outputId": "8035c020-db99-4bb3-9e3d-e868073cfb53"
      },
      "execution_count": 58,
      "outputs": [
        {
          "output_type": "stream",
          "name": "stdout",
          "text": [
            "<class 'pandas.core.frame.DataFrame'>\n",
            "RangeIndex: 890 entries, 0 to 889\n",
            "Data columns (total 11 columns):\n",
            " #   Column       Non-Null Count  Dtype  \n",
            "---  ------       --------------  -----  \n",
            " 0   PassengerId  890 non-null    int64  \n",
            " 1   Pclass       880 non-null    float64\n",
            " 2   Name         885 non-null    object \n",
            " 3   Sex          890 non-null    object \n",
            " 4   Age          715 non-null    float64\n",
            " 5   SibSp        888 non-null    float64\n",
            " 6   Parch        888 non-null    float64\n",
            " 7   Ticket No.   888 non-null    object \n",
            " 8   Fare         888 non-null    float64\n",
            " 9   Embarked     884 non-null    object \n",
            " 10  Survival     886 non-null    float64\n",
            "dtypes: float64(6), int64(1), object(4)\n",
            "memory usage: 76.6+ KB\n"
          ]
        }
      ]
    },
    {
      "cell_type": "markdown",
      "source": [
        "## 3.2 Data Preprocessing"
      ],
      "metadata": {
        "id": "VUb9RpD85BFl"
      }
    },
    {
      "cell_type": "code",
      "source": [
        "# Calculate % of rows with null values to determine how to solve them\n",
        "df_titanic.isnull().values.ravel().sum() / len(df_titanic) * 100"
      ],
      "metadata": {
        "colab": {
          "base_uri": "https://localhost:8080/"
        },
        "id": "eV8IBYZz5FYx",
        "outputId": "c6a048e2-c399-4944-dbf4-c26e3e083777"
      },
      "execution_count": 59,
      "outputs": [
        {
          "output_type": "execute_result",
          "data": {
            "text/plain": [
              "23.370786516853933"
            ]
          },
          "metadata": {},
          "execution_count": 59
        }
      ]
    },
    {
      "cell_type": "code",
      "source": [
        "# Fill missing values for 'Age' with median\n",
        "df_titanic['Age'] = df_titanic['Age'].fillna(df_titanic['Age'].median())\n",
        "\n",
        "# Fill missing values for 'Embarked' with most common port\n",
        "df_titanic['Embarked'] = df_titanic['Embarked'].fillna(df_titanic['Embarked'].mode()[0])"
      ],
      "metadata": {
        "id": "gR6If54a-ue5"
      },
      "execution_count": 60,
      "outputs": []
    },
    {
      "cell_type": "code",
      "source": [
        "# Convert categorical variables into numerical using Label Encoding\n",
        "df_titanic['Sex'] = LabelEncoder().fit_transform(df_titanic['Sex'])  # 0 = Female, 1 = Male\n",
        "df_titanic = pd.get_dummies(df_titanic, columns=['Embarked'], drop_first=True)  # One-hot encode Embarked"
      ],
      "metadata": {
        "id": "h8DCTs4T-8Wz"
      },
      "execution_count": 61,
      "outputs": []
    },
    {
      "cell_type": "code",
      "source": [
        "# Drop remaining rows with null values\n",
        "df_titanic = df_titanic.dropna(axis=0)"
      ],
      "metadata": {
        "id": "Cni6BbwcC1PF"
      },
      "execution_count": 62,
      "outputs": []
    },
    {
      "cell_type": "code",
      "source": [
        "# Drop unnecessary columns (Passenger Name, Ticket, Cabin)\n",
        "df_titanic = df_titanic.drop(columns=['Name', 'Ticket No.'])"
      ],
      "metadata": {
        "id": "ydP6ODa2_TZc"
      },
      "execution_count": 63,
      "outputs": []
    },
    {
      "cell_type": "code",
      "source": [
        "df_titanic.head()"
      ],
      "metadata": {
        "colab": {
          "base_uri": "https://localhost:8080/",
          "height": 206
        },
        "id": "FvmmQMKPBI2g",
        "outputId": "a5f700ee-f0ae-4c3d-ed44-63d2511f8cf8"
      },
      "execution_count": 64,
      "outputs": [
        {
          "output_type": "execute_result",
          "data": {
            "text/plain": [
              "   PassengerId  Pclass  Sex   Age  SibSp  Parch     Fare  Survival  \\\n",
              "0            1     3.0    1  22.0    1.0    0.0   7.2500       0.0   \n",
              "2            3     3.0    0  26.0    0.0    0.0   7.9250       1.0   \n",
              "3            4     1.0    0  35.0    1.0    0.0  53.1000       1.0   \n",
              "4            5     3.0    1  35.0    0.0    0.0   8.0500       0.0   \n",
              "6            7     1.0    1  54.0    0.0    0.0  51.8625       0.0   \n",
              "\n",
              "   Embarked_Q  Embarked_S  \n",
              "0       False        True  \n",
              "2       False        True  \n",
              "3       False        True  \n",
              "4       False        True  \n",
              "6       False        True  "
            ],
            "text/html": [
              "\n",
              "  <div id=\"df-3dcc4947-8a52-4883-abad-94c977e3d54f\" class=\"colab-df-container\">\n",
              "    <div>\n",
              "<style scoped>\n",
              "    .dataframe tbody tr th:only-of-type {\n",
              "        vertical-align: middle;\n",
              "    }\n",
              "\n",
              "    .dataframe tbody tr th {\n",
              "        vertical-align: top;\n",
              "    }\n",
              "\n",
              "    .dataframe thead th {\n",
              "        text-align: right;\n",
              "    }\n",
              "</style>\n",
              "<table border=\"1\" class=\"dataframe\">\n",
              "  <thead>\n",
              "    <tr style=\"text-align: right;\">\n",
              "      <th></th>\n",
              "      <th>PassengerId</th>\n",
              "      <th>Pclass</th>\n",
              "      <th>Sex</th>\n",
              "      <th>Age</th>\n",
              "      <th>SibSp</th>\n",
              "      <th>Parch</th>\n",
              "      <th>Fare</th>\n",
              "      <th>Survival</th>\n",
              "      <th>Embarked_Q</th>\n",
              "      <th>Embarked_S</th>\n",
              "    </tr>\n",
              "  </thead>\n",
              "  <tbody>\n",
              "    <tr>\n",
              "      <th>0</th>\n",
              "      <td>1</td>\n",
              "      <td>3.0</td>\n",
              "      <td>1</td>\n",
              "      <td>22.0</td>\n",
              "      <td>1.0</td>\n",
              "      <td>0.0</td>\n",
              "      <td>7.2500</td>\n",
              "      <td>0.0</td>\n",
              "      <td>False</td>\n",
              "      <td>True</td>\n",
              "    </tr>\n",
              "    <tr>\n",
              "      <th>2</th>\n",
              "      <td>3</td>\n",
              "      <td>3.0</td>\n",
              "      <td>0</td>\n",
              "      <td>26.0</td>\n",
              "      <td>0.0</td>\n",
              "      <td>0.0</td>\n",
              "      <td>7.9250</td>\n",
              "      <td>1.0</td>\n",
              "      <td>False</td>\n",
              "      <td>True</td>\n",
              "    </tr>\n",
              "    <tr>\n",
              "      <th>3</th>\n",
              "      <td>4</td>\n",
              "      <td>1.0</td>\n",
              "      <td>0</td>\n",
              "      <td>35.0</td>\n",
              "      <td>1.0</td>\n",
              "      <td>0.0</td>\n",
              "      <td>53.1000</td>\n",
              "      <td>1.0</td>\n",
              "      <td>False</td>\n",
              "      <td>True</td>\n",
              "    </tr>\n",
              "    <tr>\n",
              "      <th>4</th>\n",
              "      <td>5</td>\n",
              "      <td>3.0</td>\n",
              "      <td>1</td>\n",
              "      <td>35.0</td>\n",
              "      <td>0.0</td>\n",
              "      <td>0.0</td>\n",
              "      <td>8.0500</td>\n",
              "      <td>0.0</td>\n",
              "      <td>False</td>\n",
              "      <td>True</td>\n",
              "    </tr>\n",
              "    <tr>\n",
              "      <th>6</th>\n",
              "      <td>7</td>\n",
              "      <td>1.0</td>\n",
              "      <td>1</td>\n",
              "      <td>54.0</td>\n",
              "      <td>0.0</td>\n",
              "      <td>0.0</td>\n",
              "      <td>51.8625</td>\n",
              "      <td>0.0</td>\n",
              "      <td>False</td>\n",
              "      <td>True</td>\n",
              "    </tr>\n",
              "  </tbody>\n",
              "</table>\n",
              "</div>\n",
              "    <div class=\"colab-df-buttons\">\n",
              "\n",
              "  <div class=\"colab-df-container\">\n",
              "    <button class=\"colab-df-convert\" onclick=\"convertToInteractive('df-3dcc4947-8a52-4883-abad-94c977e3d54f')\"\n",
              "            title=\"Convert this dataframe to an interactive table.\"\n",
              "            style=\"display:none;\">\n",
              "\n",
              "  <svg xmlns=\"http://www.w3.org/2000/svg\" height=\"24px\" viewBox=\"0 -960 960 960\">\n",
              "    <path d=\"M120-120v-720h720v720H120Zm60-500h600v-160H180v160Zm220 220h160v-160H400v160Zm0 220h160v-160H400v160ZM180-400h160v-160H180v160Zm440 0h160v-160H620v160ZM180-180h160v-160H180v160Zm440 0h160v-160H620v160Z\"/>\n",
              "  </svg>\n",
              "    </button>\n",
              "\n",
              "  <style>\n",
              "    .colab-df-container {\n",
              "      display:flex;\n",
              "      gap: 12px;\n",
              "    }\n",
              "\n",
              "    .colab-df-convert {\n",
              "      background-color: #E8F0FE;\n",
              "      border: none;\n",
              "      border-radius: 50%;\n",
              "      cursor: pointer;\n",
              "      display: none;\n",
              "      fill: #1967D2;\n",
              "      height: 32px;\n",
              "      padding: 0 0 0 0;\n",
              "      width: 32px;\n",
              "    }\n",
              "\n",
              "    .colab-df-convert:hover {\n",
              "      background-color: #E2EBFA;\n",
              "      box-shadow: 0px 1px 2px rgba(60, 64, 67, 0.3), 0px 1px 3px 1px rgba(60, 64, 67, 0.15);\n",
              "      fill: #174EA6;\n",
              "    }\n",
              "\n",
              "    .colab-df-buttons div {\n",
              "      margin-bottom: 4px;\n",
              "    }\n",
              "\n",
              "    [theme=dark] .colab-df-convert {\n",
              "      background-color: #3B4455;\n",
              "      fill: #D2E3FC;\n",
              "    }\n",
              "\n",
              "    [theme=dark] .colab-df-convert:hover {\n",
              "      background-color: #434B5C;\n",
              "      box-shadow: 0px 1px 3px 1px rgba(0, 0, 0, 0.15);\n",
              "      filter: drop-shadow(0px 1px 2px rgba(0, 0, 0, 0.3));\n",
              "      fill: #FFFFFF;\n",
              "    }\n",
              "  </style>\n",
              "\n",
              "    <script>\n",
              "      const buttonEl =\n",
              "        document.querySelector('#df-3dcc4947-8a52-4883-abad-94c977e3d54f button.colab-df-convert');\n",
              "      buttonEl.style.display =\n",
              "        google.colab.kernel.accessAllowed ? 'block' : 'none';\n",
              "\n",
              "      async function convertToInteractive(key) {\n",
              "        const element = document.querySelector('#df-3dcc4947-8a52-4883-abad-94c977e3d54f');\n",
              "        const dataTable =\n",
              "          await google.colab.kernel.invokeFunction('convertToInteractive',\n",
              "                                                    [key], {});\n",
              "        if (!dataTable) return;\n",
              "\n",
              "        const docLinkHtml = 'Like what you see? Visit the ' +\n",
              "          '<a target=\"_blank\" href=https://colab.research.google.com/notebooks/data_table.ipynb>data table notebook</a>'\n",
              "          + ' to learn more about interactive tables.';\n",
              "        element.innerHTML = '';\n",
              "        dataTable['output_type'] = 'display_data';\n",
              "        await google.colab.output.renderOutput(dataTable, element);\n",
              "        const docLink = document.createElement('div');\n",
              "        docLink.innerHTML = docLinkHtml;\n",
              "        element.appendChild(docLink);\n",
              "      }\n",
              "    </script>\n",
              "  </div>\n",
              "\n",
              "\n",
              "<div id=\"df-2f749b7d-9a8a-47a1-ab05-4a40ba894cd4\">\n",
              "  <button class=\"colab-df-quickchart\" onclick=\"quickchart('df-2f749b7d-9a8a-47a1-ab05-4a40ba894cd4')\"\n",
              "            title=\"Suggest charts\"\n",
              "            style=\"display:none;\">\n",
              "\n",
              "<svg xmlns=\"http://www.w3.org/2000/svg\" height=\"24px\"viewBox=\"0 0 24 24\"\n",
              "     width=\"24px\">\n",
              "    <g>\n",
              "        <path d=\"M19 3H5c-1.1 0-2 .9-2 2v14c0 1.1.9 2 2 2h14c1.1 0 2-.9 2-2V5c0-1.1-.9-2-2-2zM9 17H7v-7h2v7zm4 0h-2V7h2v10zm4 0h-2v-4h2v4z\"/>\n",
              "    </g>\n",
              "</svg>\n",
              "  </button>\n",
              "\n",
              "<style>\n",
              "  .colab-df-quickchart {\n",
              "      --bg-color: #E8F0FE;\n",
              "      --fill-color: #1967D2;\n",
              "      --hover-bg-color: #E2EBFA;\n",
              "      --hover-fill-color: #174EA6;\n",
              "      --disabled-fill-color: #AAA;\n",
              "      --disabled-bg-color: #DDD;\n",
              "  }\n",
              "\n",
              "  [theme=dark] .colab-df-quickchart {\n",
              "      --bg-color: #3B4455;\n",
              "      --fill-color: #D2E3FC;\n",
              "      --hover-bg-color: #434B5C;\n",
              "      --hover-fill-color: #FFFFFF;\n",
              "      --disabled-bg-color: #3B4455;\n",
              "      --disabled-fill-color: #666;\n",
              "  }\n",
              "\n",
              "  .colab-df-quickchart {\n",
              "    background-color: var(--bg-color);\n",
              "    border: none;\n",
              "    border-radius: 50%;\n",
              "    cursor: pointer;\n",
              "    display: none;\n",
              "    fill: var(--fill-color);\n",
              "    height: 32px;\n",
              "    padding: 0;\n",
              "    width: 32px;\n",
              "  }\n",
              "\n",
              "  .colab-df-quickchart:hover {\n",
              "    background-color: var(--hover-bg-color);\n",
              "    box-shadow: 0 1px 2px rgba(60, 64, 67, 0.3), 0 1px 3px 1px rgba(60, 64, 67, 0.15);\n",
              "    fill: var(--button-hover-fill-color);\n",
              "  }\n",
              "\n",
              "  .colab-df-quickchart-complete:disabled,\n",
              "  .colab-df-quickchart-complete:disabled:hover {\n",
              "    background-color: var(--disabled-bg-color);\n",
              "    fill: var(--disabled-fill-color);\n",
              "    box-shadow: none;\n",
              "  }\n",
              "\n",
              "  .colab-df-spinner {\n",
              "    border: 2px solid var(--fill-color);\n",
              "    border-color: transparent;\n",
              "    border-bottom-color: var(--fill-color);\n",
              "    animation:\n",
              "      spin 1s steps(1) infinite;\n",
              "  }\n",
              "\n",
              "  @keyframes spin {\n",
              "    0% {\n",
              "      border-color: transparent;\n",
              "      border-bottom-color: var(--fill-color);\n",
              "      border-left-color: var(--fill-color);\n",
              "    }\n",
              "    20% {\n",
              "      border-color: transparent;\n",
              "      border-left-color: var(--fill-color);\n",
              "      border-top-color: var(--fill-color);\n",
              "    }\n",
              "    30% {\n",
              "      border-color: transparent;\n",
              "      border-left-color: var(--fill-color);\n",
              "      border-top-color: var(--fill-color);\n",
              "      border-right-color: var(--fill-color);\n",
              "    }\n",
              "    40% {\n",
              "      border-color: transparent;\n",
              "      border-right-color: var(--fill-color);\n",
              "      border-top-color: var(--fill-color);\n",
              "    }\n",
              "    60% {\n",
              "      border-color: transparent;\n",
              "      border-right-color: var(--fill-color);\n",
              "    }\n",
              "    80% {\n",
              "      border-color: transparent;\n",
              "      border-right-color: var(--fill-color);\n",
              "      border-bottom-color: var(--fill-color);\n",
              "    }\n",
              "    90% {\n",
              "      border-color: transparent;\n",
              "      border-bottom-color: var(--fill-color);\n",
              "    }\n",
              "  }\n",
              "</style>\n",
              "\n",
              "  <script>\n",
              "    async function quickchart(key) {\n",
              "      const quickchartButtonEl =\n",
              "        document.querySelector('#' + key + ' button');\n",
              "      quickchartButtonEl.disabled = true;  // To prevent multiple clicks.\n",
              "      quickchartButtonEl.classList.add('colab-df-spinner');\n",
              "      try {\n",
              "        const charts = await google.colab.kernel.invokeFunction(\n",
              "            'suggestCharts', [key], {});\n",
              "      } catch (error) {\n",
              "        console.error('Error during call to suggestCharts:', error);\n",
              "      }\n",
              "      quickchartButtonEl.classList.remove('colab-df-spinner');\n",
              "      quickchartButtonEl.classList.add('colab-df-quickchart-complete');\n",
              "    }\n",
              "    (() => {\n",
              "      let quickchartButtonEl =\n",
              "        document.querySelector('#df-2f749b7d-9a8a-47a1-ab05-4a40ba894cd4 button');\n",
              "      quickchartButtonEl.style.display =\n",
              "        google.colab.kernel.accessAllowed ? 'block' : 'none';\n",
              "    })();\n",
              "  </script>\n",
              "</div>\n",
              "\n",
              "    </div>\n",
              "  </div>\n"
            ],
            "application/vnd.google.colaboratory.intrinsic+json": {
              "type": "dataframe",
              "variable_name": "df_titanic",
              "summary": "{\n  \"name\": \"df_titanic\",\n  \"rows\": 873,\n  \"fields\": [\n    {\n      \"column\": \"PassengerId\",\n      \"properties\": {\n        \"dtype\": \"number\",\n        \"std\": 256,\n        \"min\": 1,\n        \"max\": 889,\n        \"num_unique_values\": 873,\n        \"samples\": [\n          810,\n          326,\n          390\n        ],\n        \"semantic_type\": \"\",\n        \"description\": \"\"\n      }\n    },\n    {\n      \"column\": \"Pclass\",\n      \"properties\": {\n        \"dtype\": \"number\",\n        \"std\": 0.8378326784047345,\n        \"min\": 1.0,\n        \"max\": 3.0,\n        \"num_unique_values\": 3,\n        \"samples\": [\n          3.0,\n          1.0,\n          2.0\n        ],\n        \"semantic_type\": \"\",\n        \"description\": \"\"\n      }\n    },\n    {\n      \"column\": \"Sex\",\n      \"properties\": {\n        \"dtype\": \"number\",\n        \"std\": 0,\n        \"min\": 0,\n        \"max\": 1,\n        \"num_unique_values\": 2,\n        \"samples\": [\n          0,\n          1\n        ],\n        \"semantic_type\": \"\",\n        \"description\": \"\"\n      }\n    },\n    {\n      \"column\": \"Age\",\n      \"properties\": {\n        \"dtype\": \"number\",\n        \"std\": 101.40695275457098,\n        \"min\": -20.0,\n        \"max\": 3000.0,\n        \"num_unique_values\": 90,\n        \"samples\": [\n          23.0,\n          18.0\n        ],\n        \"semantic_type\": \"\",\n        \"description\": \"\"\n      }\n    },\n    {\n      \"column\": \"SibSp\",\n      \"properties\": {\n        \"dtype\": \"number\",\n        \"std\": 1.1086195358371984,\n        \"min\": 0.0,\n        \"max\": 8.0,\n        \"num_unique_values\": 7,\n        \"samples\": [\n          1.0,\n          0.0\n        ],\n        \"semantic_type\": \"\",\n        \"description\": \"\"\n      }\n    },\n    {\n      \"column\": \"Parch\",\n      \"properties\": {\n        \"dtype\": \"number\",\n        \"std\": 0.807064124871845,\n        \"min\": 0.0,\n        \"max\": 6.0,\n        \"num_unique_values\": 7,\n        \"samples\": [\n          0.0,\n          1.0\n        ],\n        \"semantic_type\": \"\",\n        \"description\": \"\"\n      }\n    },\n    {\n      \"column\": \"Fare\",\n      \"properties\": {\n        \"dtype\": \"number\",\n        \"std\": 50.115329215380065,\n        \"min\": 0.0,\n        \"max\": 512.3292,\n        \"num_unique_values\": 244,\n        \"samples\": [\n          27.7208,\n          11.1333\n        ],\n        \"semantic_type\": \"\",\n        \"description\": \"\"\n      }\n    },\n    {\n      \"column\": \"Survival\",\n      \"properties\": {\n        \"dtype\": \"number\",\n        \"std\": 0.4873824388587594,\n        \"min\": 0.0,\n        \"max\": 1.0,\n        \"num_unique_values\": 2,\n        \"samples\": [\n          1.0,\n          0.0\n        ],\n        \"semantic_type\": \"\",\n        \"description\": \"\"\n      }\n    },\n    {\n      \"column\": \"Embarked_Q\",\n      \"properties\": {\n        \"dtype\": \"boolean\",\n        \"num_unique_values\": 2,\n        \"samples\": [\n          true,\n          false\n        ],\n        \"semantic_type\": \"\",\n        \"description\": \"\"\n      }\n    },\n    {\n      \"column\": \"Embarked_S\",\n      \"properties\": {\n        \"dtype\": \"boolean\",\n        \"num_unique_values\": 2,\n        \"samples\": [\n          false,\n          true\n        ],\n        \"semantic_type\": \"\",\n        \"description\": \"\"\n      }\n    }\n  ]\n}"
            }
          },
          "metadata": {},
          "execution_count": 64
        }
      ]
    },
    {
      "cell_type": "code",
      "source": [
        "# Define Features (X) and Target Variable (y)\n",
        "X = df_titanic.drop(columns=['Survival'])  # Drop target\n",
        "y = df_titanic['Survival']  # Target variable"
      ],
      "metadata": {
        "id": "80anz7Z9_I_d"
      },
      "execution_count": 65,
      "outputs": []
    },
    {
      "cell_type": "code",
      "source": [
        "# Split dataset: Last 140 rows for test set (as per coursework instruction)\n",
        "X_train_full, X_test, y_train_full, y_test = X.iloc[:-140], X.iloc[-140:], y.iloc[:-140], y.iloc[-140:]\n",
        "\n",
        "# Further split training set into training & validation (80% train, 20% validation)\n",
        "X_train, X_val, y_train, y_val = train_test_split(X_train_full, y_train_full, test_size=0.2, random_state=42)"
      ],
      "metadata": {
        "id": "YrYtPP_-BD9A"
      },
      "execution_count": 66,
      "outputs": []
    },
    {
      "cell_type": "code",
      "source": [
        "# Standardize numerical features\n",
        "scaler = StandardScaler()\n",
        "X_train = scaler.fit_transform(X_train)\n",
        "X_val = scaler.transform(X_val)\n",
        "X_test = scaler.transform(X_test)"
      ],
      "metadata": {
        "id": "JBF0w_H1BFt7"
      },
      "execution_count": 67,
      "outputs": []
    },
    {
      "cell_type": "markdown",
      "source": [
        "## 3.3 Model 1: Logistic Regression (Baseline Model)"
      ],
      "metadata": {
        "id": "Ab0XWiW6BeI5"
      }
    },
    {
      "cell_type": "code",
      "source": [
        "# Train Logistic Regression Model\n",
        "log_reg = LogisticRegression()\n",
        "log_reg.fit(X_train, y_train)\n",
        "\n",
        "# Predict on validation set\n",
        "pred_log_reg = log_reg.predict(X_val)"
      ],
      "metadata": {
        "id": "xo2V-71WCJgh"
      },
      "execution_count": 68,
      "outputs": []
    },
    {
      "cell_type": "code",
      "source": [
        "# Evaluate performance\n",
        "acc_log_reg = accuracy_score(y_val, pred_log_reg)\n",
        "prec_log_reg = precision_score(y_val, pred_log_reg)\n",
        "rec_log_reg = recall_score(y_val, pred_log_reg)\n",
        "f1_log_reg = f1_score(y_val, pred_log_reg)\n",
        "\n",
        "print(f\"Logistic Regression - Accuracy: {acc_log_reg:.2f}, Precision: {prec_log_reg:.2f}, Recall: {rec_log_reg:.2f}, F1-Score: {f1_log_reg:.2f}\")"
      ],
      "metadata": {
        "colab": {
          "base_uri": "https://localhost:8080/"
        },
        "id": "kdPxxUHCCKr7",
        "outputId": "428265d6-466a-4880-9fd8-69aed3e48de7"
      },
      "execution_count": 69,
      "outputs": [
        {
          "output_type": "stream",
          "name": "stdout",
          "text": [
            "Logistic Regression - Accuracy: 0.81, Precision: 0.83, Recall: 0.67, F1-Score: 0.74\n"
          ]
        }
      ]
    },
    {
      "cell_type": "code",
      "source": [
        "# Classification Report for Logistic Regression\n",
        "print(\"\\nClassification Report - Logistic Regression:\\n\")\n",
        "print(classification_report(y_val, pred_log_reg, target_names=[\"Not Survived\", \"Survived\"]))"
      ],
      "metadata": {
        "colab": {
          "base_uri": "https://localhost:8080/"
        },
        "id": "DB0OOHOlRUFO",
        "outputId": "da27db3b-30ee-433d-ab23-1781a42987df"
      },
      "execution_count": 70,
      "outputs": [
        {
          "output_type": "stream",
          "name": "stdout",
          "text": [
            "\n",
            "Classification Report - Logistic Regression:\n",
            "\n",
            "              precision    recall  f1-score   support\n",
            "\n",
            "Not Survived       0.80      0.91      0.85        87\n",
            "    Survived       0.83      0.67      0.74        60\n",
            "\n",
            "    accuracy                           0.81       147\n",
            "   macro avg       0.82      0.79      0.80       147\n",
            "weighted avg       0.81      0.81      0.81       147\n",
            "\n"
          ]
        }
      ]
    },
    {
      "cell_type": "code",
      "source": [
        "# Confusion Matrix for Logistic Regression\n",
        "conf_matrix_log_reg = confusion_matrix(y_val, pred_log_reg)\n",
        "sns.heatmap(conf_matrix_log_reg, annot=True, fmt=\"d\", cmap=\"Blues\",\n",
        "            xticklabels=[\"Not Survived\", \"Survived\"],\n",
        "            yticklabels=[\"Not Survived\", \"Survived\"])\n",
        "plt.xlabel(\"Predicted\")\n",
        "plt.ylabel(\"Actual\")\n",
        "plt.title(\"Logistic Regression - Confusion Matrix\")\n",
        "plt.show()"
      ],
      "metadata": {
        "colab": {
          "base_uri": "https://localhost:8080/",
          "height": 54
        },
        "id": "aamlBHHPOo0P",
        "outputId": "efea9b24-7644-45a4-9f33-a4be4123c441"
      },
      "execution_count": 71,
      "outputs": [
        {
          "output_type": "display_data",
          "data": {
            "text/plain": [
              "<Figure size 640x480 with 2 Axes>"
            ],
            "image/png": "[encoded data removed]"
          },
          "metadata": {}
        }
      ]
    },
    {
      "cell_type": "markdown",
      "source": [
        "## 3.4 Model 2: Random Forest"
      ],
      "metadata": {
        "id": "Q4ar4npZQxJs"
      }
    },
    {
      "cell_type": "markdown",
      "source": [
        "Hyperparameter Tuning for Random Forest"
      ],
      "metadata": {
        "id": "MfCNY20ZQ2tC"
      }
    },
    {
      "cell_type": "code",
      "source": [
        "rf_param_grid = {\n",
        "    \"n_estimators\": [50, 100, 200],\n",
        "    \"max_depth\": [5, 10, 15]\n",
        "}\n",
        "\n",
        "rf_grid = GridSearchCV(RandomForestClassifier(random_state=42), rf_param_grid, cv=5, scoring=\"accuracy\")\n",
        "rf_grid.fit(X_train, y_train)\n",
        "\n",
        "print(\"Best parameters for Random Forest:\", rf_grid.best_params_)"
      ],
      "metadata": {
        "colab": {
          "base_uri": "https://localhost:8080/"
        },
        "id": "9MiXygm-Q0_s",
        "outputId": "9c9f597b-2bd3-4317-c557-f104f565b4e8"
      },
      "execution_count": 72,
      "outputs": [
        {
          "output_type": "stream",
          "name": "stdout",
          "text": [
            "Best parameters for Random Forest: {'max_depth': 10, 'n_estimators': 100}\n"
          ]
        }
      ]
    },
    {
      "cell_type": "code",
      "source": [
        "# Train Random Forest Model with Best Parameters\n",
        "rf_clf = RandomForestClassifier(**rf_grid.best_params_, random_state=42)\n",
        "rf_clf.fit(X_train, y_train)\n",
        "\n",
        "# Predict on validation set\n",
        "pred_rf = rf_clf.predict(X_val)"
      ],
      "metadata": {
        "id": "dVyJT3oIQ8wu"
      },
      "execution_count": 73,
      "outputs": []
    },
    {
      "cell_type": "code",
      "source": [
        "# Evaluate performance\n",
        "acc_rf = accuracy_score(y_val, pred_rf)\n",
        "prec_rf = precision_score(y_val, pred_rf)\n",
        "rec_rf = recall_score(y_val, pred_rf)\n",
        "f1_rf = f1_score(y_val, pred_rf)\n",
        "\n",
        "print(f\"Random Forest - Accuracy: {acc_rf:.2f}, Precision: {prec_rf:.2f}, Recall: {rec_rf:.2f}, F1-Score: {f1_rf:.2f}\")"
      ],
      "metadata": {
        "colab": {
          "base_uri": "https://localhost:8080/"
        },
        "id": "EWc2Z_3AQ_Lo",
        "outputId": "63493253-48c9-411c-b1cc-0c88fe4f8d78"
      },
      "execution_count": 74,
      "outputs": [
        {
          "output_type": "stream",
          "name": "stdout",
          "text": [
            "Random Forest - Accuracy: 0.80, Precision: 0.79, Recall: 0.70, F1-Score: 0.74\n"
          ]
        }
      ]
    },
    {
      "cell_type": "code",
      "source": [
        "# Classification Report for Random Forest\n",
        "print(\"\\nClassification Report - Random Forest:\\n\")\n",
        "print(classification_report(y_val, pred_rf, target_names=[\"Not Survived\", \"Survived\"]))"
      ],
      "metadata": {
        "colab": {
          "base_uri": "https://localhost:8080/"
        },
        "id": "_6MODLjCRFKM",
        "outputId": "a6afc3da-1b1d-4ae5-d51b-38faa7e8660d"
      },
      "execution_count": 75,
      "outputs": [
        {
          "output_type": "stream",
          "name": "stdout",
          "text": [
            "\n",
            "Classification Report - Random Forest:\n",
            "\n",
            "              precision    recall  f1-score   support\n",
            "\n",
            "Not Survived       0.81      0.87      0.84        87\n",
            "    Survived       0.79      0.70      0.74        60\n",
            "\n",
            "    accuracy                           0.80       147\n",
            "   macro avg       0.80      0.79      0.79       147\n",
            "weighted avg       0.80      0.80      0.80       147\n",
            "\n"
          ]
        }
      ]
    },
    {
      "cell_type": "code",
      "source": [
        "# Confusion Matrix for Random Forest\n",
        "conf_matrix_rf = confusion_matrix(y_val, pred_rf)\n",
        "sns.heatmap(conf_matrix_rf, annot=True, fmt=\"d\", cmap=\"Greens\",\n",
        "            xticklabels=[\"Not Survived\", \"Survived\"],\n",
        "            yticklabels=[\"Not Survived\", \"Survived\"])\n",
        "plt.xlabel(\"Predicted\")\n",
        "plt.ylabel(\"Actual\")\n",
        "plt.title(\"Random Forest - Confusion Matrix\")\n",
        "plt.show()"
      ],
      "metadata": {
        "colab": {
          "base_uri": "https://localhost:8080/",
          "height": 54
        },
        "id": "P2KpQfWxRBK1",
        "outputId": "68509b8a-a5c9-4b29-dec9-fe94ce8cfe21"
      },
      "execution_count": 76,
      "outputs": [
        {
          "output_type": "display_data",
          "data": {
            "text/plain": [
              "<Figure size 640x480 with 2 Axes>"
            ],
            "image/png": "[encoded data removed]"
          },
          "metadata": {}
        }
      ]
    },
    {
      "cell_type": "markdown",
      "source": [
        "## 3.5 Model 3: Gradient Boosting Classifier"
      ],
      "metadata": {
        "id": "z7CjXw_CRWiw"
      }
    },
    {
      "cell_type": "markdown",
      "source": [
        "Hyperparameter Tuning for Gradient Boosting Classifier"
      ],
      "metadata": {
        "id": "6pF072FuRhZA"
      }
    },
    {
      "cell_type": "code",
      "source": [
        "gbc_param_grid = {\n",
        "    \"n_estimators\": [100, 200, 300],\n",
        "    \"learning_rate\": [0.01, 0.1, 0.2],\n",
        "    \"max_depth\": [3, 5, 7]\n",
        "}\n",
        "\n",
        "gbc_grid = GridSearchCV(GradientBoostingClassifier(random_state=42), gbc_param_grid, cv=5, scoring=\"accuracy\")\n",
        "gbc_grid.fit(X_train, y_train)\n",
        "\n",
        "print(\"Best parameters for Gradient Boosting Classifier:\", gbc_grid.best_params_)"
      ],
      "metadata": {
        "colab": {
          "base_uri": "https://localhost:8080/"
        },
        "id": "PGQsl4HMRdXC",
        "outputId": "a667139f-6623-4923-c7fc-aff3e0e58c44"
      },
      "execution_count": 77,
      "outputs": [
        {
          "output_type": "stream",
          "name": "stdout",
          "text": [
            "Best parameters for Gradient Boosting Classifier: {'learning_rate': 0.1, 'max_depth': 3, 'n_estimators': 100}\n"
          ]
        }
      ]
    },
    {
      "cell_type": "code",
      "source": [
        "# Train Gradient Boosting Model with Best Parameters\n",
        "gbc_clf = GradientBoostingClassifier(**gbc_grid.best_params_, random_state=42)\n",
        "gbc_clf.fit(X_train, y_train)\n",
        "\n",
        "# Predict on validation set\n",
        "pred_gbc = gbc_clf.predict(X_val)"
      ],
      "metadata": {
        "id": "UsDLcGhBbYAW"
      },
      "execution_count": 78,
      "outputs": []
    },
    {
      "cell_type": "code",
      "source": [
        "# Evaluate performance\n",
        "acc_gbc = accuracy_score(y_val, pred_gbc)\n",
        "prec_gbc = precision_score(y_val, pred_gbc)\n",
        "rec_gbc = recall_score(y_val, pred_gbc)\n",
        "f1_gbc = f1_score(y_val, pred_gbc)\n",
        "\n",
        "# Print metrics\n",
        "print(f\"Gradient Boosting Classifier - Accuracy: {acc_gbc:.2f}, Precision: {prec_gbc:.2f}, Recall: {rec_gbc:.2f}, F1-Score: {f1_gbc:.2f}\")"
      ],
      "metadata": {
        "colab": {
          "base_uri": "https://localhost:8080/"
        },
        "id": "_Zrz0UJpbYue",
        "outputId": "2461418e-3f4f-400b-cf9d-29cd672ca313"
      },
      "execution_count": 79,
      "outputs": [
        {
          "output_type": "stream",
          "name": "stdout",
          "text": [
            "Gradient Boosting Classifier - Accuracy: 0.82, Precision: 0.84, Recall: 0.68, F1-Score: 0.75\n"
          ]
        }
      ]
    },
    {
      "cell_type": "code",
      "source": [
        "# Classification Report\n",
        "print(\"\\nClassification Report - Gradient Boosting Classifier:\\n\")\n",
        "print(classification_report(y_val, pred_gbc, target_names=[\"Not Survived\", \"Survived\"]))"
      ],
      "metadata": {
        "colab": {
          "base_uri": "https://localhost:8080/"
        },
        "id": "KHwXPuTRbaet",
        "outputId": "ce34abe2-0446-4e2d-9f7a-fff564acc402"
      },
      "execution_count": 80,
      "outputs": [
        {
          "output_type": "stream",
          "name": "stdout",
          "text": [
            "\n",
            "Classification Report - Gradient Boosting Classifier:\n",
            "\n",
            "              precision    recall  f1-score   support\n",
            "\n",
            "Not Survived       0.81      0.91      0.85        87\n",
            "    Survived       0.84      0.68      0.75        60\n",
            "\n",
            "    accuracy                           0.82       147\n",
            "   macro avg       0.82      0.80      0.80       147\n",
            "weighted avg       0.82      0.82      0.81       147\n",
            "\n"
          ]
        }
      ]
    },
    {
      "cell_type": "code",
      "source": [
        "# Confusion Matrix Visualization\n",
        "conf_matrix_gbc = confusion_matrix(y_val, pred_gbc)\n",
        "sns.heatmap(conf_matrix_gbc, annot=True, fmt=\"d\", cmap=\"Oranges\",\n",
        "            xticklabels=[\"Not Survived\", \"Survived\"],\n",
        "            yticklabels=[\"Not Survived\", \"Survived\"])\n",
        "plt.xlabel(\"Predicted\")\n",
        "plt.ylabel(\"Actual\")\n",
        "plt.title(\"Gradient Boosting Classifier - Confusion Matrix\")\n",
        "plt.show()"
      ],
      "metadata": {
        "colab": {
          "base_uri": "https://localhost:8080/",
          "height": 54
        },
        "id": "lIKBY4ahbdGF",
        "outputId": "1281acc1-5f15-427a-82df-c0d8b1995c2f"
      },
      "execution_count": 81,
      "outputs": [
        {
          "output_type": "display_data",
          "data": {
            "text/plain": [
              "<Figure size 640x480 with 2 Axes>"
            ],
            "image/png": "[encoded data removed]"
          },
          "metadata": {}
        }
      ]
    },
    {
      "cell_type": "markdown",
      "source": [
        "## 3.6 Comparing Model Performance"
      ],
      "metadata": {
        "id": "xBgElAkVb9Dg"
      }
    },
    {
      "cell_type": "code",
      "source": [
        "# Create a DataFrame to store performance metrics for all models\n",
        "results_df_class = pd.DataFrame({\n",
        "    \"Model\": [\"Logistic Regression\", \"Random Forest\", \"Gradient Boosting\"],\n",
        "    \"Accuracy\": [acc_log_reg, acc_rf, acc_gbc],\n",
        "    \"Precision\": [prec_log_reg, prec_rf, prec_gbc],\n",
        "    \"Recall\": [rec_log_reg, rec_rf, rec_gbc],\n",
        "    \"F1-Score\": [f1_log_reg, f1_rf, f1_gbc]\n",
        "})\n",
        "\n",
        "# Print the results DataFrame for tabular comparison\n",
        "print(\"Model Performance Comparison:\\n\")\n",
        "print(results_df_class)"
      ],
      "metadata": {
        "colab": {
          "base_uri": "https://localhost:8080/"
        },
        "id": "f6X6WgyTcFQz",
        "outputId": "5d03da4f-be1a-44fa-8d07-4047b1962607"
      },
      "execution_count": 82,
      "outputs": [
        {
          "output_type": "stream",
          "name": "stdout",
          "text": [
            "Model Performance Comparison:\n",
            "\n",
            "                 Model  Accuracy  Precision    Recall  F1-Score\n",
            "0  Logistic Regression  0.809524   0.833333  0.666667  0.740741\n",
            "1        Random Forest  0.802721   0.792453  0.700000  0.743363\n",
            "2    Gradient Boosting  0.816327   0.836735  0.683333  0.752294\n"
          ]
        }
      ]
    },
    {
      "cell_type": "code",
      "source": [
        "# Plot a bar chart for visual comparison\n",
        "results_df_class.set_index(\"Model\").plot(kind=\"bar\", figsize=(10, 6), colormap=\"viridis\")\n",
        "plt.title(\"Classification Model Performance Comparison\")\n",
        "plt.ylabel(\"Score\")\n",
        "plt.ylim(0, 1.1)\n",
        "plt.xticks(rotation=0)\n",
        "plt.legend(loc=\"lower right\")\n",
        "plt.show()"
      ],
      "metadata": {
        "colab": {
          "base_uri": "https://localhost:8080/",
          "height": 564
        },
        "id": "xAw2ISsvdEYJ",
        "outputId": "49bda848-4e6d-4c54-f662-a6079819dff2"
      },
      "execution_count": 93,
      "outputs": [
        {
          "output_type": "display_data",
          "data": {
            "text/plain": [
              "<Figure size 1000x600 with 1 Axes>"
            ],
            "image/png": "[encoded data removed]"
          },
          "metadata": {}
        }
      ]
    }
  ]
}